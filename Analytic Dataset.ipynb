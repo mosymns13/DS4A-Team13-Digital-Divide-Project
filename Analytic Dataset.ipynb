{
 "cells": [
  {
   "cell_type": "markdown",
   "id": "5888dcba",
   "metadata": {},
   "source": [
    "# Analytical Dataset Exploration\n",
    "\n",
    "## Date Created: 1/20/22\n",
    "## Date Modified: 3/7/22 (Millie)\n",
    "\n",
    "### Authors: Geri, Millie, JJ\n",
    "\n",
    "This notebook serves as a place to do data exploration on the `initial_analytic_dataset.csv` which holds all the variables of interest from each of our respective datasets. This is a place to look at the relationships between variables and other assumption checks.\n",
    "\n",
    "At the end of this notebook we are create a final analytic dataset for further analysis, visualizations and modeling. Once confirmed, this notebook will be convered into a script. "
   ]
  },
  {
   "cell_type": "code",
   "execution_count": null,
   "id": "b57b1696",
   "metadata": {},
   "outputs": [],
   "source": [
    "#Packages import\n",
    "import pandas as pd\n",
    "import matplotlib.pyplot as plt\n",
    "import seaborn as sns\n",
    "import numpy as np"
   ]
  },
  {
   "cell_type": "markdown",
   "id": "042575fb",
   "metadata": {},
   "source": [
    "## Dataset Introduction\n",
    "\n",
    "This `initial_analytic_dataset.csv` holds all the columns of interest from the first round of data cleaning. The data includes high level information starting with population data for all county areas, then broadband connection percent, households median income, unemployment rates, and ends with information about devices in each household. These variables were chosen because factors, such as income ane unemployment, may have a relationship or impact whether or not households have access to technology or internet. \n",
    "\n",
    "Later in the notebook, other columns will be created with addtional datasets, such as region and division, to visualize factors in subsections of the country. "
   ]
  },
  {
   "cell_type": "code",
   "execution_count": null,
   "id": "32b19732",
   "metadata": {},
   "outputs": [],
   "source": [
    "file = open(\"initial_analytic_dataset.csv\", \"r\")\n",
    "analytic_data = pd.read_csv(\"initial_analytic_dataset.csv\")"
   ]
  },
  {
   "cell_type": "code",
   "execution_count": null,
   "id": "5496ffd2",
   "metadata": {
    "scrolled": true
   },
   "outputs": [],
   "source": [
    "for col in analytic_data.columns:\n",
    "    print(col)"
   ]
  },
  {
   "cell_type": "markdown",
   "id": "4d80aafb",
   "metadata": {},
   "source": [
    "Note from Millie: @JJ - Can you provide documentation onw hat the different \"est_total_households_with_no\" are? I am assuming that it mean no for a specific device, perhaps the one above, but I would like that confirmed."
   ]
  },
  {
   "cell_type": "code",
   "execution_count": null,
   "id": "357b7c9f",
   "metadata": {
    "scrolled": true
   },
   "outputs": [],
   "source": [
    "# Reformating broadband_pct\n",
    "analytic_data[\"broadband_pct\"] = analytic_data[\"broadband_pct\"] *100\n",
    "analytic_data[\"broadband_pct\"]"
   ]
  },
  {
   "cell_type": "markdown",
   "id": "73f610c9",
   "metadata": {},
   "source": [
    "---"
   ]
  },
  {
   "cell_type": "markdown",
   "id": "eaee58fe",
   "metadata": {},
   "source": [
    "## EDA Exploration"
   ]
  },
  {
   "cell_type": "markdown",
   "id": "14c539fc",
   "metadata": {},
   "source": [
    "Under this section, we are graphing the relationship between variables overall. Later on region is added to the dataset to look at the relationsips in smaller subsections to gather more insights. "
   ]
  },
  {
   "cell_type": "markdown",
   "id": "700f9eea",
   "metadata": {},
   "source": [
    "#### Broadband Percent v. Percent Total Population Enrolled"
   ]
  },
  {
   "cell_type": "code",
   "execution_count": null,
   "id": "c3e2821f",
   "metadata": {
    "scrolled": true
   },
   "outputs": [],
   "source": [
    "analytic_data[\"broadband_pct\"].plot.hist(figsize=(15, 5))\n",
    "plt.title(\"Broadband Percentage Distribution\")\n",
    "plt.xlabel(\"Broadband Percentage\")"
   ]
  },
  {
   "cell_type": "code",
   "execution_count": null,
   "id": "c3ec05e2",
   "metadata": {},
   "outputs": [],
   "source": [
    "analytic_data[\"percent_total_pop_enrolled\"].plot.hist(figsize=(15, 5))\n",
    "plt.title(\"Total Population Enrolled\")\n",
    "plt.xlabel(\"Total Pop Enrolled\")"
   ]
  },
  {
   "cell_type": "code",
   "execution_count": null,
   "id": "c905c769",
   "metadata": {
    "scrolled": false
   },
   "outputs": [],
   "source": [
    "plt.scatter(x = analytic_data[\"broadband_pct\"], y = analytic_data[\"percent_total_pop_enrolled\"]) # The plot\n",
    "plt.title(\"Population Enrolled vs Broadband Percentage\") # Adding a title\n",
    "plt.xlabel(\"Broadband Percentage\") # Adding axis labels\n",
    "plt.ylabel(\"Total Population Enrolled\")"
   ]
  },
  {
   "cell_type": "code",
   "execution_count": null,
   "id": "4c5c371a",
   "metadata": {},
   "outputs": [],
   "source": [
    "#Note from Millie: I added this plot because I thought it might be more useful than looking at three different plots\n",
    "sns.jointplot(data = analytic_data, x = \"broadband_pct\", y = \"percent_total_pop_enrolled\", height = 8); "
   ]
  },
  {
   "cell_type": "code",
   "execution_count": null,
   "id": "626e06ea",
   "metadata": {},
   "outputs": [],
   "source": [
    "#### Broadband Percent vs Unemployment"
   ]
  },
  {
   "cell_type": "code",
   "execution_count": null,
   "id": "5093271f",
   "metadata": {
    "scrolled": true
   },
   "outputs": [],
   "source": [
    "sns.jointplot(data = analytic_data, x = \"broadband_pct\", y = \"est_unemp_pop_ratio_16_over\", \n",
    "              kind = \"hex\", height = 8); "
   ]
  },
  {
   "cell_type": "code",
   "execution_count": null,
   "id": "798bf014",
   "metadata": {},
   "outputs": [],
   "source": [
    "sns.jointplot(data = analytic_data, x = \"broadband_pct\", y = \"est_unemp_pop_ratio_16_over\", \n",
    "              kind = \"reg\", height = 8); "
   ]
  },
  {
   "cell_type": "markdown",
   "id": "25793bb4",
   "metadata": {},
   "source": [
    "### Distrubution of Devices in Households\n",
    "\n",
    "For now, looking at all households with some sort of device against total households."
   ]
  },
  {
   "cell_type": "code",
   "execution_count": null,
   "id": "24875dd3",
   "metadata": {},
   "outputs": [],
   "source": [
    "#selecting certian variables\n",
    "devices_in_hh = analytic_data[['id','est_total_households_frm_devices',\n",
    "'est_total_households_with_device',\n",
    "'est_total_households_with_desktop',\n",
    "'est_total_households_with_smartphone',\n",
    "'est_total_households_with_portable',\n",
    "'est_total_households_with_other',\n",
    "'est_total_households_none']]"
   ]
  },
  {
   "cell_type": "code",
   "execution_count": null,
   "id": "33fec898",
   "metadata": {},
   "outputs": [],
   "source": [
    "#choosing columns to pivot\n",
    "to_pivot = devices_in_hh[[\n",
    "'est_total_households_with_device',\n",
    "'est_total_households_with_desktop',\n",
    "'est_total_households_with_smartphone',\n",
    "'est_total_households_with_portable']]\n",
    "\n",
    "#reshaping data\n",
    "plot_devices_df = pd.melt(devices_in_hh, id_vars = 'id', value_vars = to_pivot, var_name = \"type\", value_name = \"value\")\n",
    "\n",
    "#creating a separate value column to place decimal in different place\n",
    "plot_devices_df['value2'] = plot_devices_df['value']*.001"
   ]
  },
  {
   "cell_type": "code",
   "execution_count": null,
   "id": "638ba1da",
   "metadata": {},
   "outputs": [],
   "source": [
    "plot_devices_df.describe()"
   ]
  },
  {
   "cell_type": "markdown",
   "id": "d7dfb0bf",
   "metadata": {},
   "source": [
    "There is a huge std and data is heavily skewed to the right. "
   ]
  },
  {
   "cell_type": "code",
   "execution_count": null,
   "id": "0ee5a36b",
   "metadata": {
    "scrolled": false
   },
   "outputs": [],
   "source": [
    "sns.set_theme(style=\"white\", rc={\"axes.facecolor\": (0, 0, 0, 0)})\n",
    "pal = sns.cubehelix_palette(10, rot=-.25, light=.7)\n",
    "g = sns.FacetGrid(plot_devices_df, row=\"type\", aspect=9, height=1.2, palette = pal)\n",
    "\n",
    "g.map_dataframe(sns.kdeplot, x=\"value2\", fill=True, alpha=1)\n",
    "g.map_dataframe(sns.kdeplot, x=\"value2\", color='black')\n",
    "g.fig.subplots_adjust(hspace=-.5)\n",
    "\n",
    "\n",
    "g.set_titles(\"\")\n",
    "g.set(yticks=[])\n",
    "g.despine(left=True)"
   ]
  },
  {
   "cell_type": "markdown",
   "id": "b435bfda",
   "metadata": {},
   "source": [
    "#### Employment Data Distribution"
   ]
  },
  {
   "cell_type": "code",
   "execution_count": null,
   "id": "c5c16609",
   "metadata": {
    "scrolled": true
   },
   "outputs": [],
   "source": [
    "employment_info = analytic_data[['id', 'est_total_pop_16_over', 'est_emp_pop_ratio_16_over', \n",
    "                                 'est_unemp_pop_ratio_16_over']]\n",
    "\n",
    "plot_employ_df = pd.melt(employment_info, id_vars = 'id', value_vars = ['est_emp_pop_ratio_16_over', \n",
    "                                 'est_unemp_pop_ratio_16_over'], var_name = \"type\", value_name = \"value\")\n",
    "\n",
    "plot_employ_df['value2'] = plot_devices_df['value']*.001\n",
    "\n",
    "plot_employ_df.describe()\n"
   ]
  },
  {
   "cell_type": "code",
   "execution_count": null,
   "id": "96755812",
   "metadata": {},
   "outputs": [],
   "source": [
    "sns.set_theme(style=\"white\", rc={\"axes.facecolor\": (0, 0, 0, 0)})\n",
    "pal = sns.cubehelix_palette(10, rot=-.25, light=.7)\n",
    "g = sns.FacetGrid(plot_employ_df, row=\"type\", aspect=9, height=1.2, palette = pal)\n",
    "\n",
    "g.map_dataframe(sns.kdeplot, x=\"value\", fill=True, alpha=1)\n",
    "g.map_dataframe(sns.kdeplot, x=\"value\", color='black')\n",
    "g.fig.subplots_adjust(hspace=-.5)\n",
    "\n",
    "\n",
    "g.set_titles(\"\")\n",
    "g.set(yticks=[])\n",
    "g.despine(left=True)"
   ]
  },
  {
   "cell_type": "markdown",
   "id": "a80d74b9",
   "metadata": {},
   "source": [
    "Density plot above is incomplete. Currently troubleshooting. \n",
    "\n",
    "References for facet density plot:\n",
    "- https://seaborn.pydata.org/examples/kde_ridgeplot.html\n",
    "- https://python.plainenglish.io/ridge-plots-with-pythons-seaborn-4de5725881af"
   ]
  },
  {
   "cell_type": "markdown",
   "id": "d6277d73",
   "metadata": {
    "scrolled": true
   },
   "source": [
    "---"
   ]
  },
  {
   "cell_type": "markdown",
   "id": "de37b053",
   "metadata": {},
   "source": [
    "## Adding Region Dimension to the Analytic Data\n",
    "\n",
    "This is to make it easier to breakdown the data visuals so we are not looking at the entire country on one level. All visuals below are exploring with region column. "
   ]
  },
  {
   "cell_type": "code",
   "execution_count": null,
   "id": "383edcde",
   "metadata": {
    "scrolled": true
   },
   "outputs": [],
   "source": [
    "regions = pd.read_csv(\"https://raw.githubusercontent.com/cphalpert/census-regions/master/us%20census%20bureau%20regions%20and%20divisions.csv\")\n",
    "regions.columns = regions.columns.str.lower().str.replace(\" \", \"_\")\n",
    "regions"
   ]
  },
  {
   "cell_type": "code",
   "execution_count": null,
   "id": "fa8c5751",
   "metadata": {
    "scrolled": true
   },
   "outputs": [],
   "source": [
    "revised_analytic_data = analytic_data.merge(regions, on = \"state\")"
   ]
  },
  {
   "cell_type": "code",
   "execution_count": null,
   "id": "443de74e",
   "metadata": {},
   "outputs": [],
   "source": [
    "sns.jointplot(data = revised_analytic_data, x = \"broadband_pct\", y = \"est_unemp_pop_ratio_16_over\", \n",
    "             hue = \"region\", height = 8); "
   ]
  },
  {
   "cell_type": "markdown",
   "id": "c6d6d9f2",
   "metadata": {},
   "source": [
    "### Broadband Percent by Region"
   ]
  },
  {
   "cell_type": "code",
   "execution_count": null,
   "id": "7f6eedad",
   "metadata": {
    "scrolled": false
   },
   "outputs": [],
   "source": [
    "#broadband percent\n",
    "bb_region = revised_analytic_data[['id', 'region', 'broadband_pct']]\n",
    "sns.displot(\n",
    "    bb_region, x=\"broadband_pct\", col=\"region\",\n",
    "     height=3, facet_kws=dict(margin_titles=True),\n",
    ");"
   ]
  },
  {
   "cell_type": "markdown",
   "id": "ad4db345",
   "metadata": {},
   "source": [
    "Viusally speaking, there seems to be a differnce by region when looking at the broadband percentage with the South trailing behind the rest of the regions."
   ]
  },
  {
   "cell_type": "markdown",
   "id": "878dcb72",
   "metadata": {},
   "source": [
    "### Unemployment Ratio by Region"
   ]
  },
  {
   "cell_type": "code",
   "execution_count": null,
   "id": "971c3425",
   "metadata": {
    "scrolled": true
   },
   "outputs": [],
   "source": [
    "#umemployment ratio\n",
    "sns.displot(\n",
    "    revised_analytic_data, x=\"est_unemp_pop_ratio_16_over\", col=\"region\",\n",
    "    height=3, facet_kws=dict(margin_titles=True)\n",
    ");"
   ]
  },
  {
   "cell_type": "markdown",
   "id": "a5ae22a0",
   "metadata": {},
   "source": [
    "Visually, the unemployment rate seens to around 5% by reion, except for the midwest where it appears to be lower. "
   ]
  },
  {
   "cell_type": "markdown",
   "id": "79b85c2e",
   "metadata": {},
   "source": [
    "### Median Income by Region"
   ]
  },
  {
   "cell_type": "code",
   "execution_count": null,
   "id": "7a72ef23",
   "metadata": {
    "scrolled": true
   },
   "outputs": [],
   "source": [
    "#creating a separate value column to place decimal in different place\n",
    "revised_analytic_data['x_est_med_income_households'] = revised_analytic_data['est_med_income_households']*.001\n",
    "\n",
    "#median income\n",
    "sns.displot(\n",
    "    revised_analytic_data, x=\"x_est_med_income_households\", col=\"region\",\n",
    "    height=3, facet_kws=dict(margin_titles=True),\n",
    ");\n"
   ]
  },
  {
   "cell_type": "markdown",
   "id": "6eed44fd",
   "metadata": {},
   "source": [
    "### Analyzing Population Classification\n",
    "Many Rural and Micro Areas do not have Census data for most of our data. Therefore, for smaller, more rural areas, we can only look at broadband data. We may consider breaking down the Metro Areas into different bins."
   ]
  },
  {
   "cell_type": "code",
   "execution_count": null,
   "id": "56e9cac3",
   "metadata": {
    "scrolled": true
   },
   "outputs": [],
   "source": [
    "#creating a separate value column to place decimal in different place\n",
    "revised_analytic_data['broadband_pct'] = revised_analytic_data['broadband_pct']\n",
    "\n",
    "#median income\n",
    "sns.displot(\n",
    "    revised_analytic_data, x=\"broadband_pct\", col=\"pop_class\",\n",
    "    height=3, facet_kws=dict(margin_titles=True),\n",
    ");\n"
   ]
  },
  {
   "cell_type": "markdown",
   "id": "198813d1",
   "metadata": {},
   "source": [
    "------"
   ]
  },
  {
   "cell_type": "markdown",
   "id": "3324bbf8",
   "metadata": {},
   "source": [
    "## Adding Internet Price Data\n",
    "\n",
    "- Internet prices are on the state level, therefore all counties in the state will get the same price\n",
    "- Each column on price is in US dollars as the cost per mbps\n",
    "- Columns ending in a number is the total price for the for X mbps package\n",
    "    - 25 is the lowest recommended amount for any household to be functional (low end)\n",
    "    - 100 is the lowest recommended amount for a household of 4 (optimal low end)"
   ]
  },
  {
   "cell_type": "code",
   "execution_count": null,
   "id": "45e2f176",
   "metadata": {},
   "outputs": [],
   "source": [
    "internet_price = pd.read_csv(\"Initial Clean Data/internet_price_data.csv\")\n",
    "revised_analytic_data = revised_analytic_data.merge(internet_price, on = \"state\", how = \"outer\")"
   ]
  },
  {
   "cell_type": "markdown",
   "id": "cb591ad0",
   "metadata": {},
   "source": [
    "---"
   ]
  },
  {
   "cell_type": "markdown",
   "id": "d65bfbfc",
   "metadata": {},
   "source": [
    "## Creating Scores"
   ]
  },
  {
   "cell_type": "markdown",
   "id": "443a2554",
   "metadata": {},
   "source": [
    "#### Notes and Reminders\n",
    "\n",
    "We are scoring variables to have an easier way to show the levels of need in the counties. At this point in the code. The higher the score the lesser the need (we might have to reverse that). "
   ]
  },
  {
   "cell_type": "markdown",
   "id": "bc789d20",
   "metadata": {},
   "source": [
    "### Income\n",
    "\n",
    "There are various definition of poverty level or income thresholds depending on the size of the household and location. This doucmentation on poverty level for 2018 give thresholds for up to 8 persons in a household: https://aspe.hhs.gov/topics/poverty-economic-mobility/poverty-guidelines/prior-hhs-poverty-guidelines-federal-register-references/2018-poverty-guidelines\n",
    "\n",
    "There is additional documentation households data here:https://www.census.gov/quickfacts/fact/note/US/HSD410219\n",
    "\n",
    "With this new information, instead of choosing an arbitruary number of persons in a household and blindly applying it to all, we will need to add infomration from the households and families dataset. \n",
    "\n",
    "Note: Millie is creating a new notebook to view and test the data cleaning and then merging it into the initial clean dataset. \n",
    "\n",
    "For simplicity, we are working with the median income for households only (we can include families later if we are interested in that feature). We are applying the highest poverty level to all counties. "
   ]
  },
  {
   "cell_type": "code",
   "execution_count": null,
   "id": "0e551d54",
   "metadata": {
    "scrolled": false
   },
   "outputs": [],
   "source": [
    "#Observing income information \n",
    "income_info = analytic_data[['id','est_total_households_official', 'est_avg_household_size',\n",
    "                             'est_med_income_households',\n",
    "                             'est_total_families_official','est_avg_families_size',\n",
    "                             'est_med_income_families']]\n",
    "\n",
    "income_info[\"rnd_avg_household_size\"] = income_info.loc[:,('est_avg_household_size')].round(0)\n",
    "income_info[\"rnd_avg_families_size\"] = income_info.loc[:, ('est_avg_families_size')].round(0)\n",
    "#trying to get rid of the \"setting with copy\" warning\n"
   ]
  },
  {
   "cell_type": "code",
   "execution_count": null,
   "id": "bcade08a",
   "metadata": {},
   "outputs": [],
   "source": [
    "income_info[\"mod_est_med_income_households\"] = income_info[\"est_med_income_households\"]*.001\n",
    "\n",
    "plt.figure(figsize=(15, 5))\n",
    "sns.histplot(data=income_info,\n",
    "             x=\"mod_est_med_income_households\",\n",
    "             kde=True)\n",
    "plt.xlabel(\"Thousands of U.S. Dollars\")\n",
    "plt.title(\"Majority of families in U.S. counties have incomes around $60K\"); "
   ]
  },
  {
   "cell_type": "code",
   "execution_count": null,
   "id": "99721f08",
   "metadata": {},
   "outputs": [],
   "source": [
    "income_info[\"rnd_avg_household_size\"].unique() #highest avg household is 4"
   ]
  },
  {
   "cell_type": "code",
   "execution_count": null,
   "id": "b779925b",
   "metadata": {
    "scrolled": false
   },
   "outputs": [],
   "source": [
    "income_info[\"rnd_avg_families_size\"].unique() # highest family household is 5"
   ]
  },
  {
   "cell_type": "code",
   "execution_count": null,
   "id": "b5c2b778",
   "metadata": {
    "scrolled": true
   },
   "outputs": [],
   "source": [
    "#Creating text label for income \n",
    "def income_label(est_med_income_households):\n",
    "    \"\"\"Assign labels to med county income and household size\n",
    "    \"\"\"\n",
    "    if est_med_income_households < 31380: # highest poverty line is household of 4 in Alaska\n",
    "        label = \"Below Poverty Line\"\n",
    "    elif est_med_income_households >= 31380 and est_med_income_households < 50000: \n",
    "        label = \"Just Above Poverty\"\n",
    "    elif est_med_income_households >= 50000 and est_med_income_households < 70000: \n",
    "        label = \"Middle Income\"\n",
    "    elif est_med_income_households >= 70000 and est_med_income_households < 90000: \n",
    "        label = \"Upper Middle Income\"\n",
    "    elif est_med_income_households >= 90000 and est_med_income_households != 'nan': \n",
    "        label = \"Upper Income\"\n",
    "    else: #Greater than or equal to 90k\n",
    "        label = \"Unknown\"\n",
    "    return label\n",
    "\n",
    "#Creating the dict for numeric score of income \n",
    "income_score_dict = dict({'Below Poverty Line': 1, \n",
    "                         'Just Above Poverty': 2, \n",
    "                         'Middle Income': 3, \n",
    "                         'Upper Middle Income': 4,\n",
    "                         'Upper Income': 5})\n",
    "\n",
    "#applying the labels\n",
    "revised_analytic_data[\"income_label\"] = revised_analytic_data[\"est_med_income_households\"].apply(income_label)\n",
    "\n",
    "#applying the score\n",
    "revised_analytic_data[\"income_score\"] = revised_analytic_data[\"income_label\"].map(income_score_dict)"
   ]
  },
  {
   "cell_type": "markdown",
   "id": "3bd7a205",
   "metadata": {},
   "source": [
    "As you may notice the income score has fewer non-null values than income_label and that is because a score was not applied if the label == \"Unknown\""
   ]
  },
  {
   "cell_type": "code",
   "execution_count": null,
   "id": "d5344ee5",
   "metadata": {},
   "outputs": [],
   "source": [
    "check1 = revised_analytic_data[[\"id\", \"income_label\", \"income_score\"]]\n",
    "\n",
    "check1 = check1.groupby([\"income_label\", \"income_score\"]).count()\n",
    "\n",
    "check1"
   ]
  },
  {
   "cell_type": "markdown",
   "id": "11eaa081",
   "metadata": {},
   "source": [
    "## Device Score (by each device)"
   ]
  },
  {
   "cell_type": "markdown",
   "id": "1f408e64",
   "metadata": {},
   "source": [
    "### Desktop Percent Score\n",
    "\n",
    "NOTE FROM JJ: Nan values are being considered as 0 let me know if this is what we want to do and I can adjust."
   ]
  },
  {
   "cell_type": "code",
   "execution_count": null,
   "id": "dbb80a5b",
   "metadata": {},
   "outputs": [],
   "source": [
    "def pct_desktop_rank(pct_total_households_with_desktop):\n",
    "    \"\"\"Assign labels to county according to their broadband pct\n",
    "    \"\"\"\n",
    "    if pct_total_households_with_desktop >= 50.963 and pct_total_households_with_desktop < 59.495: ##Less than 2 standard deviations below\n",
    "        label = 1\n",
    "    elif pct_total_households_with_desktop < 68.027: ##Less than 1 standard deviations below\n",
    "        label = 2\n",
    "    elif pct_total_households_with_desktop < 85.091: ##Less than 1 standard deviations above\n",
    "        label = 3\n",
    "    elif pct_total_households_with_desktop < 93.623: ##Less than 2 standard deviations above\n",
    "        label = 4\n",
    "    elif pct_total_households_with_desktop > 93.623 and pct_total_households_with_desktop < 105.155: ##Greater than 2 standard deviations above\n",
    "        label = 5   \n",
    "    else: \n",
    "        label = float(\"nan\")\n",
    "    return label\n",
    "revised_analytic_data[\"desktop_score\"] = revised_analytic_data[\"pct_total_households_with_desktop\"].apply(pct_desktop_rank)\n"
   ]
  },
  {
   "cell_type": "code",
   "execution_count": null,
   "id": "2b951886",
   "metadata": {},
   "outputs": [],
   "source": [
    "revised_analytic_data[\"desktop_score\"].value_counts()"
   ]
  },
  {
   "cell_type": "markdown",
   "id": "b8c9aedb",
   "metadata": {},
   "source": [
    "### Smartphone Score"
   ]
  },
  {
   "cell_type": "code",
   "execution_count": null,
   "id": "29d96829",
   "metadata": {},
   "outputs": [],
   "source": [
    "def pct_smartphone_rank(pct_total_households_with_smartphone):\n",
    "    \"\"\"Assign labels to county according to their broadband pct\n",
    "    \"\"\"\n",
    "    if pct_total_households_with_smartphone >= 66.27 and pct_total_households_with_smartphone < 71.983 : ##Less than 2 standard deviations below\n",
    "        label = 1\n",
    "    elif pct_total_households_with_smartphone < 77.696: ##Less than 1 standard deviations below\n",
    "        label = 2\n",
    "    elif pct_total_households_with_smartphone < 89.122: ##Less than 1 standard deviations above\n",
    "        label = 3\n",
    "    elif pct_total_households_with_smartphone < 94.835: ##Less than 2 standard deviations above\n",
    "        label = 4\n",
    "    elif pct_total_households_with_smartphone > 94.835 and pct_total_households_with_smartphone < 100.548: ##Greater than 2 standard deviations above\n",
    "        label = 5  \n",
    "    else: \n",
    "        label = float(\"nan\")\n",
    "    return label\n",
    "revised_analytic_data[\"smartphone_score\"] = revised_analytic_data[\"pct_total_households_with_smartphone\"].apply(pct_smartphone_rank)\n",
    "\n"
   ]
  },
  {
   "cell_type": "code",
   "execution_count": null,
   "id": "d98fafff",
   "metadata": {},
   "outputs": [],
   "source": [
    "revised_analytic_data[\"smartphone_score\"].value_counts()"
   ]
  },
  {
   "cell_type": "markdown",
   "id": "d2f7b600",
   "metadata": {},
   "source": [
    "### Portable Device Score"
   ]
  },
  {
   "cell_type": "code",
   "execution_count": null,
   "id": "a90ec6ce",
   "metadata": {},
   "outputs": [],
   "source": [
    "def pct_portable_rank(pct_total_households_with_portable):\n",
    "    \"\"\"Assign labels to county according to their broadband pct\n",
    "    \"\"\"\n",
    "    if pct_total_households_with_portable >= 36.78 and pct_total_households_with_portable < 45.083: ##Less than 2 standard deviations below\n",
    "        label = 1\n",
    "    elif pct_total_households_with_portable <  53.386: ##Less than 1 standard deviations below\n",
    "        label = 2\n",
    "    elif pct_total_households_with_portable < 69.992: ##Less than 1 standard deviations above\n",
    "        label = 3\n",
    "    elif pct_total_households_with_portable < 78.295: ##Less than 2 standard deviations above\n",
    "        label = 4\n",
    "    elif pct_total_households_with_portable > 78.295 and pct_total_households_with_portable < 86.598: ##Greater than 2 standard deviations above\n",
    "        label = 5   \n",
    "    else: \n",
    "        label = float(\"nan\")\n",
    "    return label\n",
    "revised_analytic_data[\"portable_score\"] = revised_analytic_data[\"pct_total_households_with_portable\"].apply(pct_portable_rank)\n"
   ]
  },
  {
   "cell_type": "code",
   "execution_count": null,
   "id": "bb9add8a",
   "metadata": {
    "scrolled": true
   },
   "outputs": [],
   "source": [
    "revised_analytic_data[\"portable_score\"].value_counts()"
   ]
  },
  {
   "cell_type": "markdown",
   "id": "a1fac803",
   "metadata": {},
   "source": [
    "### No Device Score"
   ]
  },
  {
   "cell_type": "code",
   "execution_count": null,
   "id": "6b0c9f35",
   "metadata": {},
   "outputs": [],
   "source": [
    "def pct_no_device_rank(pct_total_households_no_device):\n",
    "    \"\"\"Assign labels to county according to their broadband pct\n",
    "    \"\"\"\n",
    "    if pct_total_households_no_device  >= -(4.192) and pct_total_households_no_device < 0.096: ##Less than 2 standard deviations below\n",
    "        label = 1\n",
    "    elif pct_total_households_no_device < 4.384: ##Less than 1 standard deviations below\n",
    "        label = 2\n",
    "    elif pct_total_households_no_device < 12.96: ##Less than 1 standard deviations above\n",
    "        label = 3\n",
    "    elif pct_total_households_no_device < 17.248: ##Less than 2 standard deviations above\n",
    "        label = 4\n",
    "    elif pct_total_households_no_device > 17.248 and pct_total_households_no_device < 21.536: ##Greater than 2 standard deviations above\n",
    "        label = 5   \n",
    "    else: \n",
    "        label = float(\"nan\")\n",
    "    return label\n",
    "revised_analytic_data[\"no_device_score\"] = revised_analytic_data[\"pct_total_households_no_device\"].apply(pct_no_device_rank)\n"
   ]
  },
  {
   "cell_type": "code",
   "execution_count": null,
   "id": "85080c42",
   "metadata": {},
   "outputs": [],
   "source": [
    "revised_analytic_data[\"no_device_score\"].value_counts()"
   ]
  },
  {
   "cell_type": "markdown",
   "id": "94bda09c",
   "metadata": {},
   "source": [
    "## Broadband Score\n",
    "\n",
    "Broadband Percentage Score was assigned using percentage ranges defined by Census Bureau Data Article found at https://www.census.gov/library/stories/2018/12/rural-and-lower-income-counties-lag-nation-internet-subscription.html. Scores were assigned with 5 being the lowest percentage and 1 being the highest percentage. "
   ]
  },
  {
   "cell_type": "code",
   "execution_count": null,
   "id": "c87bb254",
   "metadata": {},
   "outputs": [],
   "source": [
    "revised_analytic_data[\"broadband_pct\"].describe()"
   ]
  },
  {
   "cell_type": "code",
   "execution_count": null,
   "id": "fdb93c07",
   "metadata": {},
   "outputs": [],
   "source": [
    "#creating broadband classification\n",
    "def bdbd_type(broadband_pct):\n",
    "    \"\"\"Assign labels to county according to their broadband pct\n",
    "    \"\"\"\n",
    "    if broadband_pct < 54.9 : #Between 0.0 to 54.9\n",
    "        label = 1\n",
    "    elif broadband_pct < 64.9: #Between 55.0 to 64.9\n",
    "        label = 2\n",
    "    elif broadband_pct < 74.9: #Between 65.0 to 74.9\n",
    "        label = 3\n",
    "    elif broadband_pct < 84.9: #Between 75.0 to 84.9\n",
    "        label = 4\n",
    "    elif broadband_pct > 85.0: #Greater than 85.0\n",
    "        label = 5  \n",
    "    else: \n",
    "        label = 1\n",
    "    return label"
   ]
  },
  {
   "cell_type": "code",
   "execution_count": null,
   "id": "1849c12f",
   "metadata": {},
   "outputs": [],
   "source": [
    "revised_analytic_data[\"bdbd_score\"] = revised_analytic_data[\"broadband_pct\"].apply(bdbd_type)"
   ]
  },
  {
   "cell_type": "code",
   "execution_count": null,
   "id": "68efe08e",
   "metadata": {},
   "outputs": [],
   "source": [
    "revised_analytic_data[\"bdbd_score\"].value_counts()"
   ]
  },
  {
   "cell_type": "code",
   "execution_count": null,
   "id": "53e71fa7",
   "metadata": {},
   "outputs": [],
   "source": [
    "#Selecting only columns of interest\n",
    "review5 = revised_analytic_data[[\"id\", \"bdbd_score\"]]\n",
    "\n",
    "#grouping by newly created \"portable_rank\" and counting \n",
    "review5 = review5.groupby(\"bdbd_score\").count()\n",
    "\n",
    "review5"
   ]
  },
  {
   "cell_type": "code",
   "execution_count": null,
   "id": "ff3ed618",
   "metadata": {
    "scrolled": true
   },
   "outputs": [],
   "source": [
    "bdbd_df = revised_analytic_data[[\"county\", \"state\",\"pop_total\", \"pop_class\", \"broadband_pct\", \"bdbd_score\"]]\n",
    "bdbd_df"
   ]
  },
  {
   "cell_type": "code",
   "execution_count": null,
   "id": "2f06a222",
   "metadata": {
    "scrolled": true
   },
   "outputs": [],
   "source": [
    "corrz = bdbd_df.corr()\n",
    "corrz"
   ]
  },
  {
   "cell_type": "code",
   "execution_count": null,
   "id": "f1410170",
   "metadata": {},
   "outputs": [],
   "source": [
    "my_contingency_table = pd.crosstab(index=bdbd_df[\"pop_class\"], columns=bdbd_df[\"bdbd_score\"])\n",
    "my_contingency_table"
   ]
  },
  {
   "cell_type": "code",
   "execution_count": null,
   "id": "db45a16f",
   "metadata": {
    "scrolled": true
   },
   "outputs": [],
   "source": [
    "sns.heatmap(my_contingency_table)"
   ]
  },
  {
   "cell_type": "code",
   "execution_count": null,
   "id": "2e8b3b16",
   "metadata": {
    "scrolled": true
   },
   "outputs": [],
   "source": [
    "sns.heatmap(my_contingency_table, cmap=\"Reds\")"
   ]
  },
  {
   "cell_type": "code",
   "execution_count": null,
   "id": "4c547f02",
   "metadata": {},
   "outputs": [],
   "source": [
    "norm_con = pd.crosstab(index=bdbd_df[\"pop_class\"], columns=bdbd_df[\"bdbd_score\"], normalize=\"columns\")*100\n",
    "sns.heatmap(norm_con)"
   ]
  },
  {
   "cell_type": "code",
   "execution_count": null,
   "id": "efb06358",
   "metadata": {
    "scrolled": false
   },
   "outputs": [],
   "source": [
    "revised_analytic_data.info()"
   ]
  },
  {
   "cell_type": "code",
   "execution_count": null,
   "id": "9c51635f",
   "metadata": {
    "scrolled": true
   },
   "outputs": [],
   "source": [
    "#Selecting columns with the scores \n",
    "cols_to_sum = [\"income_score\", \"desktop_score\", \"smartphone_score\", \n",
    "            \"portable_score\", \"no_device_score\", \"bdbd_score\"]\n",
    "\n",
    "# adding up all the scores created for a \"total score\"\n",
    "revised_analytic_data[\"total_score\"] = revised_analytic_data[cols_to_sum].sum(axis=1)"
   ]
  },
  {
   "cell_type": "markdown",
   "id": "de1e2cfd",
   "metadata": {},
   "source": [
    "> NOTE: When the times comes with correct devices data scoring is incorporated, this can be regenerated and named as final."
   ]
  },
  {
   "cell_type": "code",
   "execution_count": null,
   "id": "8bb50526",
   "metadata": {},
   "outputs": [],
   "source": [
    "#Exporting csv file\n",
    "revised_analytic_data.to_csv(r'revised_analytic_dataset.csv', index = False)"
   ]
  }
 ],
 "metadata": {
  "kernelspec": {
   "display_name": "Python 3 (ipykernel)",
   "language": "python",
   "name": "python3"
  },
  "language_info": {
   "codemirror_mode": {
    "name": "ipython",
    "version": 3
   },
   "file_extension": ".py",
   "mimetype": "text/x-python",
   "name": "python",
   "nbconvert_exporter": "python",
   "pygments_lexer": "ipython3",
   "version": "3.9.7"
  }
 },
 "nbformat": 4,
 "nbformat_minor": 5
}
