{
 "cells": [
  {
   "cell_type": "markdown",
   "id": "66bd3510",
   "metadata": {},
   "source": [
    "# School and Broadband EDA\n",
    "\n",
    "Geri Harding"
   ]
  },
  {
   "cell_type": "code",
   "execution_count": 52,
   "id": "9d65d11e",
   "metadata": {},
   "outputs": [],
   "source": [
    "import json\n",
    "import pandas as pd\n",
    "import matplotlib.pyplot as plt\n",
    "import seaborn as sns\n",
    "import numpy as np\n",
    "import base64"
   ]
  },
  {
   "cell_type": "markdown",
   "id": "29d3fd18",
   "metadata": {},
   "source": [
    "# School Enrollment Data\n"
   ]
  },
  {
   "cell_type": "code",
   "execution_count": 53,
   "id": "8381188b",
   "metadata": {
    "scrolled": true
   },
   "outputs": [
    {
     "data": {
      "text/html": [
       "<div>\n",
       "<style scoped>\n",
       "    .dataframe tbody tr th:only-of-type {\n",
       "        vertical-align: middle;\n",
       "    }\n",
       "\n",
       "    .dataframe tbody tr th {\n",
       "        vertical-align: top;\n",
       "    }\n",
       "\n",
       "    .dataframe thead th {\n",
       "        text-align: right;\n",
       "    }\n",
       "</style>\n",
       "<table border=\"1\" class=\"dataframe\">\n",
       "  <thead>\n",
       "    <tr style=\"text-align: right;\">\n",
       "      <th></th>\n",
       "      <th>id</th>\n",
       "      <th>Total Pop Enrolled</th>\n",
       "      <th>Percent Total Pop Enrolled</th>\n",
       "      <th>Margin Total Pop</th>\n",
       "      <th>County</th>\n",
       "      <th>State</th>\n",
       "    </tr>\n",
       "  </thead>\n",
       "  <tbody>\n",
       "    <tr>\n",
       "      <th>0</th>\n",
       "      <td>0500000US01003</td>\n",
       "      <td>35912</td>\n",
       "      <td>79.0</td>\n",
       "      <td>1447</td>\n",
       "      <td>Baldwin County</td>\n",
       "      <td>Alabama</td>\n",
       "    </tr>\n",
       "    <tr>\n",
       "      <th>1</th>\n",
       "      <td>0500000US01015</td>\n",
       "      <td>17680</td>\n",
       "      <td>67.7</td>\n",
       "      <td>703</td>\n",
       "      <td>Calhoun County</td>\n",
       "      <td>Alabama</td>\n",
       "    </tr>\n",
       "    <tr>\n",
       "      <th>2</th>\n",
       "      <td>0500000US01043</td>\n",
       "      <td>13985</td>\n",
       "      <td>78.8</td>\n",
       "      <td>760</td>\n",
       "      <td>Cullman County</td>\n",
       "      <td>Alabama</td>\n",
       "    </tr>\n",
       "    <tr>\n",
       "      <th>3</th>\n",
       "      <td>0500000US01049</td>\n",
       "      <td>13367</td>\n",
       "      <td>86.8</td>\n",
       "      <td>617</td>\n",
       "      <td>DeKalb County</td>\n",
       "      <td>Alabama</td>\n",
       "    </tr>\n",
       "    <tr>\n",
       "      <th>4</th>\n",
       "      <td>0500000US01051</td>\n",
       "      <td>13077</td>\n",
       "      <td>72.0</td>\n",
       "      <td>544</td>\n",
       "      <td>Elmore County</td>\n",
       "      <td>Alabama</td>\n",
       "    </tr>\n",
       "    <tr>\n",
       "      <th>...</th>\n",
       "      <td>...</td>\n",
       "      <td>...</td>\n",
       "      <td>...</td>\n",
       "      <td>...</td>\n",
       "      <td>...</td>\n",
       "      <td>...</td>\n",
       "    </tr>\n",
       "    <tr>\n",
       "      <th>833</th>\n",
       "      <td>0500000US72113</td>\n",
       "      <td>19965</td>\n",
       "      <td>60.8</td>\n",
       "      <td>956</td>\n",
       "      <td>Ponce Municipio</td>\n",
       "      <td>Puerto Rico</td>\n",
       "    </tr>\n",
       "    <tr>\n",
       "      <th>834</th>\n",
       "      <td>0500000US72127</td>\n",
       "      <td>44217</td>\n",
       "      <td>56.6</td>\n",
       "      <td>1358</td>\n",
       "      <td>San Juan Municipio</td>\n",
       "      <td>Puerto Rico</td>\n",
       "    </tr>\n",
       "    <tr>\n",
       "      <th>835</th>\n",
       "      <td>0500000US72135</td>\n",
       "      <td>12180</td>\n",
       "      <td>70.4</td>\n",
       "      <td>1268</td>\n",
       "      <td>Toa Alta Municipio</td>\n",
       "      <td>Puerto Rico</td>\n",
       "    </tr>\n",
       "    <tr>\n",
       "      <th>836</th>\n",
       "      <td>0500000US72137</td>\n",
       "      <td>11050</td>\n",
       "      <td>63.9</td>\n",
       "      <td>541</td>\n",
       "      <td>Toa Baja Municipio</td>\n",
       "      <td>Puerto Rico</td>\n",
       "    </tr>\n",
       "    <tr>\n",
       "      <th>837</th>\n",
       "      <td>0500000US72139</td>\n",
       "      <td>9634</td>\n",
       "      <td>60.7</td>\n",
       "      <td>613</td>\n",
       "      <td>Trujillo Alto Municipio</td>\n",
       "      <td>Puerto Rico</td>\n",
       "    </tr>\n",
       "  </tbody>\n",
       "</table>\n",
       "<p>838 rows × 6 columns</p>\n",
       "</div>"
      ],
      "text/plain": [
       "                 id  Total Pop Enrolled  Percent Total Pop Enrolled  \\\n",
       "0    0500000US01003               35912                        79.0   \n",
       "1    0500000US01015               17680                        67.7   \n",
       "2    0500000US01043               13985                        78.8   \n",
       "3    0500000US01049               13367                        86.8   \n",
       "4    0500000US01051               13077                        72.0   \n",
       "..              ...                 ...                         ...   \n",
       "833  0500000US72113               19965                        60.8   \n",
       "834  0500000US72127               44217                        56.6   \n",
       "835  0500000US72135               12180                        70.4   \n",
       "836  0500000US72137               11050                        63.9   \n",
       "837  0500000US72139                9634                        60.7   \n",
       "\n",
       "     Margin Total Pop                   County         State  \n",
       "0                1447           Baldwin County       Alabama  \n",
       "1                 703           Calhoun County       Alabama  \n",
       "2                 760           Cullman County       Alabama  \n",
       "3                 617            DeKalb County       Alabama  \n",
       "4                 544            Elmore County       Alabama  \n",
       "..                ...                      ...           ...  \n",
       "833               956          Ponce Municipio   Puerto Rico  \n",
       "834              1358       San Juan Municipio   Puerto Rico  \n",
       "835              1268       Toa Alta Municipio   Puerto Rico  \n",
       "836               541       Toa Baja Municipio   Puerto Rico  \n",
       "837               613  Trujillo Alto Municipio   Puerto Rico  \n",
       "\n",
       "[838 rows x 6 columns]"
      ]
     },
     "execution_count": 53,
     "metadata": {},
     "output_type": "execute_result"
    }
   ],
   "source": [
    "file = open(\"school_enrollment_clean.csv\",\"r\")\n",
    "school_data = pd.read_csv(\"school_enrollment_clean.csv\")\n",
    "\n",
    "school_data"
   ]
  },
  {
   "cell_type": "markdown",
   "id": "2bada919",
   "metadata": {},
   "source": [
    "# School Enrollment Variables\n",
    "\n",
    "id = County \n",
    "Total Pop Enrolled = \n",
    "Percent Total Pop Enrolled =\n",
    "Margin Total Pop = \n",
    "County = \n",
    "State = "
   ]
  },
  {
   "cell_type": "markdown",
   "id": "7048b88a",
   "metadata": {},
   "source": [
    "# Preliminary EDA\n",
    "\n",
    "### Which columns in your data sets will help you answer the questions posed by your problem statement?\n",
    "\n",
    "1. Which columns represent the key pieces of information you want to examine (i.e.your target variables)?\n",
    "Total Population 3 years and over enrolled in school in k-12\n",
    "\n",
    "2. How many numerical, textual, datetime etc. columns are in your dataset?\n",
    "Six\n",
    "\n",
    "3. Pick out any similar columns among your disparate data sets for potential linking later on on the EDA process\n",
    "id, State, County"
   ]
  },
  {
   "cell_type": "markdown",
   "id": "bb00bf55",
   "metadata": {},
   "source": [
    "### Explore Individual columns for preliminary insights\n",
    "1. How many null values are present in your data (what percentage)?\n",
    "\n",
    "0 when I run is NaN, however there are some (X) values listed in columns that I believe will be dropped\n",
    "\n",
    "\n",
    "5. Explore any date/datetime columns for basic trends. How long is the period of time covered by the dataset? Do any seasonality trends immediately become apparent?\n",
    "The dataset only covers one year at a time, once we slice off the irrelevant data we can merge the subsequent years onto this data. "
   ]
  },
  {
   "cell_type": "code",
   "execution_count": 54,
   "id": "f8465e48",
   "metadata": {
    "scrolled": true
   },
   "outputs": [],
   "source": [
    "school_data['Total Pop Enrolled'] = school_data['Total Pop Enrolled'].astype(int)"
   ]
  },
  {
   "cell_type": "markdown",
   "id": "7db4e801",
   "metadata": {},
   "source": [
    "2. Plot one-dimensional distributions of numerical columns (ex. histograms) and observe the overall shape of the data (i.e. normal distribution, skewed, multimodal, discontinuous\n",
    "\n",
    "Total k-12 Population Enrolled, Data is skewed to the right probably by large population centers. For this data, it would be helpful to split the County and State Name. I would also like to see us catergorize counties by rural or urban dependent on population size. \n",
    "\n",
    "Percentage k-12 Population Enrolled is skewed to the left. "
   ]
  },
  {
   "cell_type": "code",
   "execution_count": 55,
   "id": "d2b4ce6e",
   "metadata": {},
   "outputs": [
    {
     "data": {
      "text/plain": [
       "Text(0.5, 1.0, 'Total k-12 Population Enrolled')"
      ]
     },
     "execution_count": 55,
     "metadata": {},
     "output_type": "execute_result"
    },
    {
     "data": {
      "image/png": "[encoded data removed]",
      "text/plain": [
       "<Figure size 1440x720 with 1 Axes>"
      ]
     },
     "metadata": {
      "needs_background": "light"
     },
     "output_type": "display_data"
    }
   ],
   "source": [
    "school_data[\"Total Pop Enrolled\"].plot.hist(range=[0.0, 170000], figsize = (20,10))\n",
    "plt.xlabel(\"Total County Enrollment\")\n",
    "plt.title(\"Total k-12 Population Enrolled\")"
   ]
  },
  {
   "cell_type": "code",
   "execution_count": 56,
   "id": "4e9ece14",
   "metadata": {},
   "outputs": [
    {
     "data": {
      "text/plain": [
       "Text(0.5, 1.0, '70-75% of k-12 population is enrolled in school')"
      ]
     },
     "execution_count": 56,
     "metadata": {},
     "output_type": "execute_result"
    },
    {
     "data": {
      "image/png": "[encoded data removed]",
      "text/plain": [
       "<Figure size 1440x720 with 1 Axes>"
      ]
     },
     "metadata": {
      "needs_background": "light"
     },
     "output_type": "display_data"
    }
   ],
   "source": [
    "school_data[\"Percent Total Pop Enrolled\"].plot.hist(figsize=(20, 10))\n",
    "plt.xlabel(\"County Percentage Enrolled\")\n",
    "plt.title(\"70-75% of k-12 population is enrolled in school\")"
   ]
  },
  {
   "cell_type": "code",
   "execution_count": 57,
   "id": "3d69c011",
   "metadata": {},
   "outputs": [],
   "source": [
    "school_data[\"Percent Total Pop Enrolled\"] = school_data[\"Percent Total Pop Enrolled\"].astype(float)"
   ]
  },
  {
   "cell_type": "markdown",
   "id": "bc469338",
   "metadata": {},
   "source": [
    "3. Compute basic statistics of numerical columns"
   ]
  },
  {
   "cell_type": "code",
   "execution_count": 58,
   "id": "73ef4a95",
   "metadata": {},
   "outputs": [
    {
     "data": {
      "text/html": [
       "<div>\n",
       "<style scoped>\n",
       "    .dataframe tbody tr th:only-of-type {\n",
       "        vertical-align: middle;\n",
       "    }\n",
       "\n",
       "    .dataframe tbody tr th {\n",
       "        vertical-align: top;\n",
       "    }\n",
       "\n",
       "    .dataframe thead th {\n",
       "        text-align: right;\n",
       "    }\n",
       "</style>\n",
       "<table border=\"1\" class=\"dataframe\">\n",
       "  <thead>\n",
       "    <tr style=\"text-align: right;\">\n",
       "      <th></th>\n",
       "      <th>Total Pop Enrolled</th>\n",
       "      <th>Percent Total Pop Enrolled</th>\n",
       "      <th>Margin Total Pop</th>\n",
       "    </tr>\n",
       "  </thead>\n",
       "  <tbody>\n",
       "    <tr>\n",
       "      <th>count</th>\n",
       "      <td>8.380000e+02</td>\n",
       "      <td>838.000000</td>\n",
       "      <td>838.000000</td>\n",
       "    </tr>\n",
       "    <tr>\n",
       "      <th>mean</th>\n",
       "      <td>5.495886e+04</td>\n",
       "      <td>67.313246</td>\n",
       "      <td>1324.628878</td>\n",
       "    </tr>\n",
       "    <tr>\n",
       "      <th>std</th>\n",
       "      <td>9.696190e+04</td>\n",
       "      <td>9.972154</td>\n",
       "      <td>766.914982</td>\n",
       "    </tr>\n",
       "    <tr>\n",
       "      <th>min</th>\n",
       "      <td>6.626000e+03</td>\n",
       "      <td>25.300000</td>\n",
       "      <td>360.000000</td>\n",
       "    </tr>\n",
       "    <tr>\n",
       "      <th>25%</th>\n",
       "      <td>1.549325e+04</td>\n",
       "      <td>63.900000</td>\n",
       "      <td>820.250000</td>\n",
       "    </tr>\n",
       "    <tr>\n",
       "      <th>50%</th>\n",
       "      <td>2.604700e+04</td>\n",
       "      <td>69.500000</td>\n",
       "      <td>1131.500000</td>\n",
       "    </tr>\n",
       "    <tr>\n",
       "      <th>75%</th>\n",
       "      <td>5.469300e+04</td>\n",
       "      <td>73.775000</td>\n",
       "      <td>1597.250000</td>\n",
       "    </tr>\n",
       "    <tr>\n",
       "      <th>max</th>\n",
       "      <td>1.590325e+06</td>\n",
       "      <td>86.800000</td>\n",
       "      <td>6803.000000</td>\n",
       "    </tr>\n",
       "  </tbody>\n",
       "</table>\n",
       "</div>"
      ],
      "text/plain": [
       "       Total Pop Enrolled  Percent Total Pop Enrolled  Margin Total Pop\n",
       "count        8.380000e+02                  838.000000        838.000000\n",
       "mean         5.495886e+04                   67.313246       1324.628878\n",
       "std          9.696190e+04                    9.972154        766.914982\n",
       "min          6.626000e+03                   25.300000        360.000000\n",
       "25%          1.549325e+04                   63.900000        820.250000\n",
       "50%          2.604700e+04                   69.500000       1131.500000\n",
       "75%          5.469300e+04                   73.775000       1597.250000\n",
       "max          1.590325e+06                   86.800000       6803.000000"
      ]
     },
     "execution_count": 58,
     "metadata": {},
     "output_type": "execute_result"
    }
   ],
   "source": [
    "#Compute basic statistics using .describe()\n",
    "school_data.describe()"
   ]
  },
  {
   "cell_type": "markdown",
   "id": "7e774004",
   "metadata": {},
   "source": [
    "4. Calculate subgroup size of text/categorical data (such as the pd.value_counts() method)\n",
    "There are 838 Geographic areas out of 3000 US counties"
   ]
  },
  {
   "cell_type": "code",
   "execution_count": 59,
   "id": "af13925b",
   "metadata": {},
   "outputs": [
    {
     "data": {
      "text/plain": [
       "838"
      ]
     },
     "execution_count": 59,
     "metadata": {},
     "output_type": "execute_result"
    }
   ],
   "source": [
    "school_data[\"County\"].count()"
   ]
  },
  {
   "cell_type": "code",
   "execution_count": 60,
   "id": "cca60987",
   "metadata": {},
   "outputs": [
    {
     "data": {
      "text/plain": [
       "1590325"
      ]
     },
     "execution_count": 60,
     "metadata": {},
     "output_type": "execute_result"
    }
   ],
   "source": [
    "school_data[\"Total Pop Enrolled\"].max()"
   ]
  },
  {
   "cell_type": "code",
   "execution_count": 61,
   "id": "606c1dd5",
   "metadata": {
    "scrolled": true
   },
   "outputs": [
    {
     "data": {
      "text/plain": [
       "Text(0.5, 0, 'Percentage of County Enrolled k-12')"
      ]
     },
     "execution_count": 61,
     "metadata": {},
     "output_type": "execute_result"
    },
    {
     "data": {
      "image/png": "[encoded data removed]",
      "text/plain": [
       "<Figure size 1440x720 with 1 Axes>"
      ]
     },
     "metadata": {
      "needs_background": "light"
     },
     "output_type": "display_data"
    }
   ],
   "source": [
    "plt.figure(figsize=(20, 10))\n",
    "sns.histplot(data=school_data,\n",
    "             x=\"Percent Total Pop Enrolled\",\n",
    "             kde=True)\n",
    "plt.xlabel(\"Percentage of County Enrolled k-12\")\n"
   ]
  },
  {
   "cell_type": "markdown",
   "id": "afac5462",
   "metadata": {},
   "source": [
    "# Broadband Data "
   ]
  },
  {
   "cell_type": "code",
   "execution_count": 62,
   "id": "46037622",
   "metadata": {},
   "outputs": [
    {
     "data": {
      "text/html": [
       "<div>\n",
       "<style scoped>\n",
       "    .dataframe tbody tr th:only-of-type {\n",
       "        vertical-align: middle;\n",
       "    }\n",
       "\n",
       "    .dataframe tbody tr th {\n",
       "        vertical-align: top;\n",
       "    }\n",
       "\n",
       "    .dataframe thead th {\n",
       "        text-align: right;\n",
       "    }\n",
       "</style>\n",
       "<table border=\"1\" class=\"dataframe\">\n",
       "  <thead>\n",
       "    <tr style=\"text-align: right;\">\n",
       "      <th></th>\n",
       "      <th>county</th>\n",
       "      <th>year</th>\n",
       "      <th>id</th>\n",
       "      <th>cfips</th>\n",
       "      <th>state</th>\n",
       "      <th>broadband_pct</th>\n",
       "    </tr>\n",
       "  </thead>\n",
       "  <tbody>\n",
       "    <tr>\n",
       "      <th>0</th>\n",
       "      <td>Autauga County</td>\n",
       "      <td>2000</td>\n",
       "      <td>0500000US01001</td>\n",
       "      <td>1001</td>\n",
       "      <td>Alabama</td>\n",
       "      <td>NaN</td>\n",
       "    </tr>\n",
       "    <tr>\n",
       "      <th>1</th>\n",
       "      <td>Autauga County</td>\n",
       "      <td>2001</td>\n",
       "      <td>0500000US01001</td>\n",
       "      <td>1001</td>\n",
       "      <td>Alabama</td>\n",
       "      <td>NaN</td>\n",
       "    </tr>\n",
       "    <tr>\n",
       "      <th>2</th>\n",
       "      <td>Autauga County</td>\n",
       "      <td>2002</td>\n",
       "      <td>0500000US01001</td>\n",
       "      <td>1001</td>\n",
       "      <td>Alabama</td>\n",
       "      <td>NaN</td>\n",
       "    </tr>\n",
       "    <tr>\n",
       "      <th>3</th>\n",
       "      <td>Autauga County</td>\n",
       "      <td>2003</td>\n",
       "      <td>0500000US01001</td>\n",
       "      <td>1001</td>\n",
       "      <td>Alabama</td>\n",
       "      <td>NaN</td>\n",
       "    </tr>\n",
       "    <tr>\n",
       "      <th>4</th>\n",
       "      <td>Autauga County</td>\n",
       "      <td>2004</td>\n",
       "      <td>0500000US01001</td>\n",
       "      <td>1001</td>\n",
       "      <td>Alabama</td>\n",
       "      <td>NaN</td>\n",
       "    </tr>\n",
       "    <tr>\n",
       "      <th>...</th>\n",
       "      <td>...</td>\n",
       "      <td>...</td>\n",
       "      <td>...</td>\n",
       "      <td>...</td>\n",
       "      <td>...</td>\n",
       "      <td>...</td>\n",
       "    </tr>\n",
       "    <tr>\n",
       "      <th>59522</th>\n",
       "      <td>Weston County</td>\n",
       "      <td>2014</td>\n",
       "      <td>0500000US56045</td>\n",
       "      <td>56045</td>\n",
       "      <td>Wyoming</td>\n",
       "      <td>NaN</td>\n",
       "    </tr>\n",
       "    <tr>\n",
       "      <th>59523</th>\n",
       "      <td>Weston County</td>\n",
       "      <td>2015</td>\n",
       "      <td>0500000US56045</td>\n",
       "      <td>56045</td>\n",
       "      <td>Wyoming</td>\n",
       "      <td>NaN</td>\n",
       "    </tr>\n",
       "    <tr>\n",
       "      <th>59524</th>\n",
       "      <td>Weston County</td>\n",
       "      <td>2016</td>\n",
       "      <td>0500000US56045</td>\n",
       "      <td>56045</td>\n",
       "      <td>Wyoming</td>\n",
       "      <td>NaN</td>\n",
       "    </tr>\n",
       "    <tr>\n",
       "      <th>59525</th>\n",
       "      <td>Weston County</td>\n",
       "      <td>2017</td>\n",
       "      <td>0500000US56045</td>\n",
       "      <td>56045</td>\n",
       "      <td>Wyoming</td>\n",
       "      <td>0.586207</td>\n",
       "    </tr>\n",
       "    <tr>\n",
       "      <th>59526</th>\n",
       "      <td>Weston County</td>\n",
       "      <td>2018</td>\n",
       "      <td>0500000US56045</td>\n",
       "      <td>56045</td>\n",
       "      <td>Wyoming</td>\n",
       "      <td>0.733000</td>\n",
       "    </tr>\n",
       "  </tbody>\n",
       "</table>\n",
       "<p>59527 rows × 6 columns</p>\n",
       "</div>"
      ],
      "text/plain": [
       "               county  year              id  cfips    state  broadband_pct\n",
       "0      Autauga County  2000  0500000US01001   1001  Alabama            NaN\n",
       "1      Autauga County  2001  0500000US01001   1001  Alabama            NaN\n",
       "2      Autauga County  2002  0500000US01001   1001  Alabama            NaN\n",
       "3      Autauga County  2003  0500000US01001   1001  Alabama            NaN\n",
       "4      Autauga County  2004  0500000US01001   1001  Alabama            NaN\n",
       "...               ...   ...             ...    ...      ...            ...\n",
       "59522   Weston County  2014  0500000US56045  56045  Wyoming            NaN\n",
       "59523   Weston County  2015  0500000US56045  56045  Wyoming            NaN\n",
       "59524   Weston County  2016  0500000US56045  56045  Wyoming            NaN\n",
       "59525   Weston County  2017  0500000US56045  56045  Wyoming       0.586207\n",
       "59526   Weston County  2018  0500000US56045  56045  Wyoming       0.733000\n",
       "\n",
       "[59527 rows x 6 columns]"
      ]
     },
     "execution_count": 62,
     "metadata": {},
     "output_type": "execute_result"
    }
   ],
   "source": [
    "#opened from csv from downloaded \n",
    "file = open(\"broadband_clean.csv\",\"r\")\n",
    "broadband_data = pd.read_csv(\"broadband_clean.csv\")\n",
    "broadband_data"
   ]
  },
  {
   "cell_type": "markdown",
   "id": "404bf1d7",
   "metadata": {},
   "source": [
    "# Broadband Variables\n",
    "\n",
    "county =\n",
    "year =\n",
    "id =\n",
    "cfips =\n",
    "state =\n",
    "broadband_pct ="
   ]
  },
  {
   "cell_type": "markdown",
   "id": "70e1c3e6",
   "metadata": {},
   "source": [
    "# Preliminary EDA\n",
    "\n",
    "Which columns in your data sets will help you answer the questions posed by\n",
    "your problem statement?\n",
    "\n",
    "1. Which columns represent the key pieces of information you want to examine (i.e.your target variables)?\n",
    "Broadband Percentage\n",
    "\n",
    "2. How many numerical, textual, datetime etc. columns are in your dataset?\n",
    "Six\n",
    "\n",
    "3. Pick out any similar columns among your disparate data sets for potential linking later on on the EDA process\n",
    "State, County, FIPS Code"
   ]
  },
  {
   "cell_type": "markdown",
   "id": "77e9196e",
   "metadata": {},
   "source": [
    "Explore Individual columns for preliminary insights\n",
    "\n",
    "1. How many null values are present in your data (what percentage)?\n",
    "46522 (78%)\n",
    "\n",
    "I plan on using only 2017 and 2018 because the data is more complete for those years compared to 2000-2016."
   ]
  },
  {
   "cell_type": "code",
   "execution_count": 63,
   "id": "246a7c50",
   "metadata": {},
   "outputs": [
    {
     "data": {
      "text/plain": [
       "county               0\n",
       "year                 0\n",
       "id                   0\n",
       "cfips                0\n",
       "state                0\n",
       "broadband_pct    46522\n",
       "dtype: int64"
      ]
     },
     "execution_count": 63,
     "metadata": {},
     "output_type": "execute_result"
    }
   ],
   "source": [
    "#Number of null values (78%)\n",
    "broadband_data.isna().sum()"
   ]
  },
  {
   "cell_type": "code",
   "execution_count": 64,
   "id": "f956088d",
   "metadata": {},
   "outputs": [
    {
     "data": {
      "text/plain": [
       "2018    3133\n",
       "2017    3132\n",
       "2014     817\n",
       "2013     817\n",
       "2015     813\n",
       "2016     812\n",
       "2012     328\n",
       "2007     328\n",
       "2009     328\n",
       "2010     328\n",
       "2008     328\n",
       "2011     328\n",
       "2003     217\n",
       "2005     216\n",
       "2004     216\n",
       "2006     216\n",
       "2002     216\n",
       "2001     216\n",
       "2000     216\n",
       "Name: year, dtype: int64"
      ]
     },
     "execution_count": 64,
     "metadata": {},
     "output_type": "execute_result"
    }
   ],
   "source": [
    "df_nonans = df.dropna()\n",
    "df_nonans[\"year\"].value_counts()"
   ]
  },
  {
   "cell_type": "markdown",
   "id": "5267b64f",
   "metadata": {},
   "source": [
    "2. Plot one-dimensional distributions of numerical columns (ex. histograms) and observe the overall shape of the data (i.e. normal distribution, skewed, multimodal, discontinuous\n",
    "Data is skewed to the left"
   ]
  },
  {
   "cell_type": "code",
   "execution_count": 65,
   "id": "6ebdd06b",
   "metadata": {},
   "outputs": [
    {
     "data": {
      "text/plain": [
       "Text(0.5, 0, 'Broadband Percentage')"
      ]
     },
     "execution_count": 65,
     "metadata": {},
     "output_type": "execute_result"
    },
    {
     "data": {
      "image/png": "[encoded data removed]",
      "text/plain": [
       "<Figure size 1440x720 with 1 Axes>"
      ]
     },
     "metadata": {
      "needs_background": "light"
     },
     "output_type": "display_data"
    }
   ],
   "source": [
    "broadband_data[\"broadband_pct\"].plot.hist(figsize=(20, 10))\n",
    "plt.title(\"Broadband Percentage Distribution\")\n",
    "plt.xlabel(\"Broadband Percentage\")"
   ]
  },
  {
   "cell_type": "markdown",
   "id": "42f43b8d",
   "metadata": {},
   "source": [
    "3. Compute basic statistics of numerical columns"
   ]
  },
  {
   "cell_type": "code",
   "execution_count": 66,
   "id": "19254290",
   "metadata": {},
   "outputs": [
    {
     "data": {
      "text/plain": [
       "count    13005.000000\n",
       "mean         0.654916\n",
       "std          0.198363\n",
       "min          0.011258\n",
       "25%          0.554252\n",
       "50%          0.710000\n",
       "75%          0.800389\n",
       "max          0.973881\n",
       "Name: broadband_pct, dtype: float64"
      ]
     },
     "execution_count": 66,
     "metadata": {},
     "output_type": "execute_result"
    }
   ],
   "source": [
    "#Compute basic stats\n",
    "broadband_data[\"broadband_pct\"].describe()"
   ]
  },
  {
   "cell_type": "markdown",
   "id": "ac46debb",
   "metadata": {},
   "source": [
    "4. Calculate subgroup size of text/categorical data (such as the pd.value_counts() method)\n",
    "\n",
    "There are 1867 counties out of the 3006 US counties"
   ]
  },
  {
   "cell_type": "code",
   "execution_count": 67,
   "id": "afdd138c",
   "metadata": {},
   "outputs": [
    {
     "data": {
      "text/plain": [
       "0           Autauga County\n",
       "19          Baldwin County\n",
       "38          Barbour County\n",
       "57             Bibb County\n",
       "76           Blount County\n",
       "               ...        \n",
       "59413      Sublette County\n",
       "59432    Sweetwater County\n",
       "59470         Uinta County\n",
       "59489      Washakie County\n",
       "59508        Weston County\n",
       "Name: county, Length: 1867, dtype: object"
      ]
     },
     "execution_count": 67,
     "metadata": {},
     "output_type": "execute_result"
    }
   ],
   "source": [
    "dfcounty = broadband_data[\"county\"].drop_duplicates()\n",
    "dfcounty"
   ]
  },
  {
   "cell_type": "markdown",
   "id": "2109c1ad",
   "metadata": {},
   "source": [
    "5. Explore any date/datetime columns for basic trends. How long is the period of time covered by the dataset? Do any seasonality trends immediately become apparent?\n",
    "More counties reported later on, it's not apparent if they were not reporting or did not have broadband at the time.\n",
    "\n",
    "2000-2005 216-217\n",
    "2008-2021 328\n",
    "2016-2017 812-817\n",
    "2017-2018 3132-3133"
   ]
  },
  {
   "cell_type": "code",
   "execution_count": 68,
   "id": "bd2c2692",
   "metadata": {},
   "outputs": [
    {
     "data": {
      "text/plain": [
       "2018    3133\n",
       "2017    3132\n",
       "2014     817\n",
       "2013     817\n",
       "2015     813\n",
       "2016     812\n",
       "2012     328\n",
       "2007     328\n",
       "2009     328\n",
       "2010     328\n",
       "2008     328\n",
       "2011     328\n",
       "2003     217\n",
       "2005     216\n",
       "2004     216\n",
       "2006     216\n",
       "2002     216\n",
       "2001     216\n",
       "2000     216\n",
       "Name: year, dtype: int64"
      ]
     },
     "execution_count": 68,
     "metadata": {},
     "output_type": "execute_result"
    }
   ],
   "source": [
    "df_nonans = df.dropna()\n",
    "df_nonans[\"year\"].value_counts()"
   ]
  },
  {
   "cell_type": "markdown",
   "id": "97b8415d",
   "metadata": {},
   "source": [
    "# Conclusions\n",
    "\n",
    "I would want to add population data to this to categorize counties as Rural or Urban by population size. I would use that as one of my main variables along with broadband percentage. \n",
    "\n",
    "Questions to Answer\n",
    "Plot two-dimensional distributions of your variables of interest against your target variable(s).\n",
    "○ Across different values of your independent variable, how does the dependent\n",
    "variable change?\n",
    "○ Which interactions of variables provide the most interesting insights?\n",
    "○ What trends do you see in the\n",
    "\n",
    "\n",
    "Analyze any correlations between your independent and dependent variables\n",
    "\n",
    "○ Understand and resolve surprising correlations between these variables, and usethis information to validate your initial hypothesis.\n",
    "\n",
    "The broadband percentage is lower or nonexistent in rural counties (From the counties I know are Urban vs Rural in LA, will be able to determine once I add the new column in). "
   ]
  }
 ],
 "metadata": {
  "kernelspec": {
   "display_name": "Python 3",
   "language": "python",
   "name": "python3"
  },
  "language_info": {
   "codemirror_mode": {
    "name": "ipython",
    "version": 3
   },
   "file_extension": ".py",
   "mimetype": "text/x-python",
   "name": "python",
   "nbconvert_exporter": "python",
   "pygments_lexer": "ipython3",
   "version": "3.8.8"
  }
 },
 "nbformat": 4,
 "nbformat_minor": 5
}
