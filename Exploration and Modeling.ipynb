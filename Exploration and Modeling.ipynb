{
 "cells": [
  {
   "cell_type": "markdown",
   "id": "4a76afbc",
   "metadata": {},
   "source": [
    "## Revised Analytic Data Set Exploration and Modeling\n",
    "\n",
    "### Author: Millie O. Symns\n",
    "### Date Created: 3/3/22\n",
    "### Date Updated: 3/15/22"
   ]
  },
  {
   "cell_type": "markdown",
   "id": "96e7cec4",
   "metadata": {},
   "source": [
    "This notebook takes the final `revised_analytic_dataset.csv` to continue data exploration and modeling. The approach in this notebook starts with trying to predict the price of internet using linear regression. \n",
    "\n",
    "Since the price data does not correlate well with the rest of the dataset, it is unsurprising that the model is not a good fit. One option suggested is to try a more robust model given some some data is missing and skewed, such as a random forest model and gradient boosted trees. [NOTE: That still needs to be done] \n",
    "\n",
    "###### Updates\n",
    "Later we take a new approach with trying to predict broadband percentage and percent of households with desktops using linear regression since the data correlates better. The idea is that if we can predict either or both of these variables, we could potentially speak to areas in need and how certain predictors are significant signs of that need. \n",
    "\n",
    "For the time being we are choosing to stick with linear regression models for simplicity. The current formulas of chose are `formula3` for predicting broadband pct and `formula7` for predicting pct of households with desktops. We might change of the factors (i.e., removing pct for portable devices and see how that changes anything). We still need to visualize this model. \n",
    "\n",
    "Splitting the data into test and training only using the numeric variables (so exluding region):  \n",
    "- Predicting broadband pct = 81%\n",
    "- Predicting pct households with desktops = 83%"
   ]
  },
  {
   "cell_type": "code",
   "execution_count": 1,
   "id": "e4ce91ac",
   "metadata": {},
   "outputs": [],
   "source": [
    "# PACKAGES\n",
    "import pandas as pd\n",
    "import seaborn as sns\n",
    "import matplotlib.pyplot as plt\n",
    "from matplotlib.pyplot import figure\n",
    "import numpy as np\n",
    "\n",
    "#Reminder to add sklearn to requirements\n",
    "from sklearn.linear_model import LinearRegression, Ridge, Lasso\n",
    "from sklearn.ensemble import RandomForestRegressor\n",
    "from sklearn.model_selection import cross_val_score, train_test_split, GridSearchCV\n",
    "\n",
    "#from DS4A\n",
    "import statsmodels.formula.api as sm"
   ]
  },
  {
   "cell_type": "code",
   "execution_count": 2,
   "id": "e2ad98a1",
   "metadata": {
    "scrolled": true
   },
   "outputs": [
    {
     "name": "stdout",
     "output_type": "stream",
     "text": [
      "<class 'pandas.core.frame.DataFrame'>\n",
      "RangeIndex: 3144 entries, 0 to 3143\n",
      "Data columns (total 83 columns):\n",
      " #   Column                                Non-Null Count  Dtype  \n",
      "---  ------                                --------------  -----  \n",
      " 0   id                                    3143 non-null   object \n",
      " 1   pop_total                             3143 non-null   float64\n",
      " 2   county                                3143 non-null   object \n",
      " 3   state                                 3144 non-null   object \n",
      " 4   pop_class                             3143 non-null   object \n",
      " 5   year                                  3132 non-null   float64\n",
      " 6   broadband_pct                         3132 non-null   float64\n",
      " 7   total_pop_enrolled                    827 non-null    float64\n",
      " 8   percent_total_pop_enrolled            827 non-null    float64\n",
      " 9   margin_total_pop                      827 non-null    float64\n",
      " 10  est_total_households_frm_income       827 non-null    float64\n",
      " 11  est_med_income_households             827 non-null    float64\n",
      " 12  est_total_families                    827 non-null    float64\n",
      " 13  est_med_income_families               827 non-null    float64\n",
      " 14  est_total_pop_16_over                 812 non-null    float64\n",
      " 15  est_emp_pop_ratio_16_over             812 non-null    float64\n",
      " 16  est_unemp_pop_ratio_16_over           812 non-null    float64\n",
      " 17  est_total_households_frm_devices      812 non-null    float64\n",
      " 18  est_total_households_with_device      812 non-null    float64\n",
      " 19  est_total_households_with_desktop     812 non-null    float64\n",
      " 20  est_total_households_with_no          812 non-null    float64\n",
      " 21  est_total_households_with_smartphone  812 non-null    float64\n",
      " 22  est_total_households_with_no2         812 non-null    float64\n",
      " 23  est_total_households_with_portable    812 non-null    float64\n",
      " 24  est_total_households_with_no3         812 non-null    float64\n",
      " 25  est_total_households_with_other       812 non-null    float64\n",
      " 26  est_total_households_with_no4         812 non-null    float64\n",
      " 27  est_total_households_none             812 non-null    float64\n",
      " 28  est_total_households_with_sub         825 non-null    float64\n",
      " 29  est_total_households_with_du          364 non-null    float64\n",
      " 30  est_total_households_with_broadband   37 non-null     float64\n",
      " 31  est_total_households_with_cellular    171 non-null    float64\n",
      " 32  est_total_households_with_cell_no     9 non-null      float64\n",
      " 33  est_total_households_with_cable       102 non-null    float64\n",
      " 34  est_total_households_with_sat         105 non-null    float64\n",
      " 35  est_total_households_without_sub      295 non-null    float64\n",
      " 36  pct_total_households_with_device      827 non-null    float64\n",
      " 37  pct_total_households_with_desktop     827 non-null    float64\n",
      " 38  pct_total_households_with_no          827 non-null    float64\n",
      " 39  pct_total_households_with_smartphone  827 non-null    float64\n",
      " 40  pct_total_households_with_no2         827 non-null    float64\n",
      " 41  pct_total_households_with_portable    827 non-null    float64\n",
      " 42  pct_total_households_with_no3         827 non-null    float64\n",
      " 43  pct_total_households_with_other       827 non-null    float64\n",
      " 44  pct_total_households_with_no4         827 non-null    float64\n",
      " 45  pct_total_households_no_device        827 non-null    float64\n",
      " 46  pct_total_households_with_sub         827 non-null    float64\n",
      " 47  pct_total_households_with_du          827 non-null    float64\n",
      " 48  pct_total_households_with_broadband   827 non-null    float64\n",
      " 49  pct_total_households_with_cellular    827 non-null    float64\n",
      " 50  pct_total_households_with_cell_no     827 non-null    float64\n",
      " 51  pct_total_households_with_cable       827 non-null    float64\n",
      " 52  pct_total_households_with_sat         827 non-null    float64\n",
      " 53  pct_total_households_without_sub      827 non-null    float64\n",
      " 54  total_one_device                      812 non-null    float64\n",
      " 55  total_multi_device                    812 non-null    float64\n",
      " 56  total_without_device                  812 non-null    float64\n",
      " 57  total_households_org                  812 non-null    float64\n",
      " 58  est_total_households_official         827 non-null    float64\n",
      " 59  est_avg_household_size                827 non-null    float64\n",
      " 60  est_total_families_official           827 non-null    float64\n",
      " 61  est_avg_families_size                 827 non-null    float64\n",
      " 62  state_code                            3143 non-null   object \n",
      " 63  region                                3143 non-null   object \n",
      " 64  division                              3143 non-null   object \n",
      " 65  x_est_med_income_households           827 non-null    float64\n",
      " 66  cable_price                           2931 non-null   float64\n",
      " 67  fiber_optic_price                     2863 non-null   float64\n",
      " 68  dsl_price                             2160 non-null   float64\n",
      " 69  cable25                               2931 non-null   float64\n",
      " 70  fiber_optic25                         2863 non-null   float64\n",
      " 71  dsl25                                 2160 non-null   float64\n",
      " 72  cable100                              2931 non-null   float64\n",
      " 73  fiber_optic100                        2863 non-null   float64\n",
      " 74  dsl100                                2160 non-null   float64\n",
      " 75  income_label                          3144 non-null   object \n",
      " 76  income_score                          827 non-null    float64\n",
      " 77  desktop_score                         827 non-null    float64\n",
      " 78  smartphone_score                      827 non-null    float64\n",
      " 79  portable_score                        827 non-null    float64\n",
      " 80  no_device_score                       822 non-null    float64\n",
      " 81  bdbd_score                            3144 non-null   int64  \n",
      " 82  total_score                           3144 non-null   float64\n",
      "dtypes: float64(74), int64(1), object(8)\n",
      "memory usage: 2.0+ MB\n"
     ]
    }
   ],
   "source": [
    "# Pull in revised analytic data set\n",
    "raw_revised_analytic = pd.read_csv(\"revised_analytic_dataset.csv\")\n",
    "\n",
    "# Explore which variables to keep \n",
    "raw_revised_analytic.info()"
   ]
  },
  {
   "cell_type": "markdown",
   "id": "9816874c",
   "metadata": {},
   "source": [
    "## Checking correlation of variables"
   ]
  },
  {
   "cell_type": "code",
   "execution_count": 3,
   "id": "ce853d76",
   "metadata": {},
   "outputs": [
    {
     "data": {
      "image/png": "[encoded data removed]",
      "text/plain": [
       "<Figure size 640x480 with 2 Axes>"
      ]
     },
     "metadata": {
      "needs_background": "light"
     },
     "output_type": "display_data"
    }
   ],
   "source": [
    "# Data Exploration Pt 1 (Price relationships)\n",
    "\n",
    "part1 = raw_revised_analytic[['id', 'pop_total', 'county', 'state', 'pop_class', 'region', 'division',\n",
    "                              'broadband_pct','est_med_income_households', 'est_unemp_pop_ratio_16_over',\n",
    "                              'pct_total_households_with_desktop','pct_total_households_with_portable',\n",
    "                             'cable100', 'fiber_optic100', 'dsl100']]\n",
    "\n",
    "# making the figure bigger\n",
    "figure(figsize=(8, 6), dpi=80)\n",
    "\n",
    "# creating the correlation matrix\n",
    "corrMatrix = part1.corr()\n",
    "\n",
    "# using triu function to make a triangle of the matrix (only half)\n",
    "mask = np.triu(np.ones_like(corrMatrix, dtype=bool))\n",
    "\n",
    "# plotting heatmap\n",
    "sns.heatmap(corrMatrix, annot=True, vmax=1, vmin=-1, center=0, cmap='vlag', mask = mask)\n",
    "plt.show()"
   ]
  },
  {
   "cell_type": "code",
   "execution_count": 4,
   "id": "1361030b",
   "metadata": {},
   "outputs": [
    {
     "data": {
      "text/plain": [
       "(3144, 15)"
      ]
     },
     "execution_count": 4,
     "metadata": {},
     "output_type": "execute_result"
    }
   ],
   "source": [
    "part1.shape"
   ]
  },
  {
   "cell_type": "code",
   "execution_count": 5,
   "id": "c3febafe",
   "metadata": {},
   "outputs": [
    {
     "name": "stderr",
     "output_type": "stream",
     "text": [
      "/Users/milliesymns/opt/anaconda3/lib/python3.9/site-packages/pandas/util/_decorators.py:311: SettingWithCopyWarning: \n",
      "A value is trying to be set on a copy of a slice from a DataFrame\n",
      "\n",
      "See the caveats in the documentation: https://pandas.pydata.org/pandas-docs/stable/user_guide/indexing.html#returning-a-view-versus-a-copy\n",
      "  return func(*args, **kwargs)\n"
     ]
    },
    {
     "data": {
      "text/plain": [
       "(782, 13)"
      ]
     },
     "execution_count": 5,
     "metadata": {},
     "output_type": "execute_result"
    }
   ],
   "source": [
    "old_main_df = raw_revised_analytic[['id', 'pop_total', 'county', 'state', 'pop_class', 'region', 'division',\n",
    "                              'broadband_pct','est_med_income_households', 'est_unemp_pop_ratio_16_over',\n",
    "                              'pct_total_households_with_desktop','pct_total_households_with_portable',\n",
    "                             'cable100']]\n",
    "\n",
    "\n",
    "old_main_df.dropna(inplace = True)\n",
    "\n",
    "#checking df shape\n",
    "old_main_df.shape"
   ]
  },
  {
   "cell_type": "markdown",
   "id": "2deb006e",
   "metadata": {},
   "source": [
    "## [OLD] Trying to predict price\n",
    "The method of predicting price is no longer in use."
   ]
  },
  {
   "cell_type": "code",
   "execution_count": 6,
   "id": "deabd894",
   "metadata": {
    "scrolled": true
   },
   "outputs": [
    {
     "data": {
      "text/plain": [
       "<seaborn.axisgrid.FacetGrid at 0x7f7b2d3ae130>"
      ]
     },
     "execution_count": 6,
     "metadata": {},
     "output_type": "execute_result"
    },
    {
     "data": {
      "image/png": "[encoded data removed]",
      "text/plain": [
       "<Figure size 360x360 with 1 Axes>"
      ]
     },
     "metadata": {
      "needs_background": "light"
     },
     "output_type": "display_data"
    }
   ],
   "source": [
    "#One of the target vars\n",
    "sns.displot(old_main_df.cable100)"
   ]
  },
  {
   "cell_type": "markdown",
   "id": "7a6010e6",
   "metadata": {},
   "source": [
    "### Using Sample Walkthrough to predict cable100"
   ]
  },
  {
   "cell_type": "code",
   "execution_count": 7,
   "id": "8efd0eee",
   "metadata": {},
   "outputs": [],
   "source": [
    "# Train test split data \n",
    "\n",
    "#set the target and predictors \n",
    "y = old_main_df.cable100 #target\n",
    "\n",
    "df_temp = old_main_df.select_dtypes(include = 'float64') #only keeping numeric values\n",
    "x = df_temp.drop(['cable100'], axis = 1) #predictors "
   ]
  },
  {
   "cell_type": "code",
   "execution_count": 8,
   "id": "eea0e011",
   "metadata": {},
   "outputs": [],
   "source": [
    "x_train, x_test, y_train, y_test = train_test_split(x, y, test_size = .75, random_state = 3)"
   ]
  },
  {
   "cell_type": "code",
   "execution_count": 9,
   "id": "4e8153b1",
   "metadata": {},
   "outputs": [
    {
     "data": {
      "text/plain": [
       "LinearRegression()"
      ]
     },
     "execution_count": 9,
     "metadata": {},
     "output_type": "execute_result"
    }
   ],
   "source": [
    "lr = LinearRegression()\n",
    "# fitting optimal linear regression line on training data \n",
    "lr.fit(x_train, y_train)"
   ]
  },
  {
   "cell_type": "code",
   "execution_count": 10,
   "id": "80e9676d",
   "metadata": {},
   "outputs": [],
   "source": [
    "#for the given mosel and fit predict y values using x set \n",
    "yr_hat = lr.predict(x_test)"
   ]
  },
  {
   "cell_type": "code",
   "execution_count": 11,
   "id": "8f3e1326",
   "metadata": {},
   "outputs": [
    {
     "name": "stdout",
     "output_type": "stream",
     "text": [
      "Accuracy:  0.029814058244541974\n"
     ]
    }
   ],
   "source": [
    "# evaluating algorithm with the test set \n",
    "lr_score = lr.score (x_test, y_test)\n",
    "print(\"Accuracy: \", lr_score) #LOL Really inaccurate model (which was to be expected)"
   ]
  },
  {
   "cell_type": "markdown",
   "id": "b3d710a2",
   "metadata": {},
   "source": [
    "### Using DS4A Instruction on Linear Regression to predict cable100"
   ]
  },
  {
   "cell_type": "code",
   "execution_count": 12,
   "id": "8ff6d9ec",
   "metadata": {
    "scrolled": true
   },
   "outputs": [
    {
     "name": "stdout",
     "output_type": "stream",
     "text": [
      "                            OLS Regression Results                            \n",
      "==============================================================================\n",
      "Dep. Variable:               cable100   R-squared:                       0.071\n",
      "Model:                            OLS   Adj. R-squared:                  0.064\n",
      "Method:                 Least Squares   F-statistic:                     9.843\n",
      "Date:                Tue, 15 Mar 2022   Prob (F-statistic):           1.78e-10\n",
      "Time:                        12:33:58   Log-Likelihood:                -3467.2\n",
      "No. Observations:                 782   AIC:                             6948.\n",
      "Df Residuals:                     775   BIC:                             6981.\n",
      "Df Model:                           6                                         \n",
      "Covariance Type:            nonrobust                                         \n",
      "======================================================================================================\n",
      "                                         coef    std err          t      P>|t|      [0.025      0.975]\n",
      "------------------------------------------------------------------------------------------------------\n",
      "Intercept                             51.4231     12.475      4.122      0.000      26.935      75.911\n",
      "pop_total                          -5.005e-06   1.25e-06     -3.991      0.000   -7.47e-06   -2.54e-06\n",
      "broadband_pct                         -0.6214      0.265     -2.347      0.019      -1.141      -0.102\n",
      "est_med_income_households             -0.0002   7.48e-05     -2.776      0.006      -0.000   -6.08e-05\n",
      "est_unemp_pop_ratio_16_over           -0.8426      0.467     -1.806      0.071      -1.759       0.073\n",
      "pct_total_households_with_desktop      1.2288      0.233      5.283      0.000       0.772       1.685\n",
      "pct_total_households_with_portable    -0.2311      0.211     -1.094      0.274      -0.646       0.183\n",
      "==============================================================================\n",
      "Omnibus:                       65.097   Durbin-Watson:                   0.193\n",
      "Prob(Omnibus):                  0.000   Jarque-Bera (JB):               80.457\n",
      "Skew:                          -0.785   Prob(JB):                     3.38e-18\n",
      "Kurtosis:                       3.053   Cond. No.                     1.19e+07\n",
      "==============================================================================\n",
      "\n",
      "Notes:\n",
      "[1] Standard Errors assume that the covariance matrix of the errors is correctly specified.\n",
      "[2] The condition number is large, 1.19e+07. This might indicate that there are\n",
      "strong multicollinearity or other numerical problems.\n"
     ]
    }
   ],
   "source": [
    "formula1 = \"cable100 ~ pop_total + broadband_pct + est_med_income_households + est_unemp_pop_ratio_16_over + pct_total_households_with_desktop + pct_total_households_with_portable\"\n",
    "model1 = sm.ols(formula = formula1, data = old_main_df)\n",
    "fitted1 = model1.fit()\n",
    "print(fitted1.summary())"
   ]
  },
  {
   "cell_type": "markdown",
   "id": "97a6270b",
   "metadata": {},
   "source": [
    "# NEW DIRECTION: \n",
    "## Predicting Broadband Percent and Percent Households with Desktops\n",
    "Below code is trying out differnt model and variable combinations"
   ]
  },
  {
   "cell_type": "code",
   "execution_count": 13,
   "id": "e73d7ba6",
   "metadata": {},
   "outputs": [
    {
     "name": "stderr",
     "output_type": "stream",
     "text": [
      "/Users/milliesymns/opt/anaconda3/lib/python3.9/site-packages/pandas/util/_decorators.py:311: SettingWithCopyWarning: \n",
      "A value is trying to be set on a copy of a slice from a DataFrame\n",
      "\n",
      "See the caveats in the documentation: https://pandas.pydata.org/pandas-docs/stable/user_guide/indexing.html#returning-a-view-versus-a-copy\n",
      "  return func(*args, **kwargs)\n"
     ]
    },
    {
     "data": {
      "text/plain": [
       "(812, 12)"
      ]
     },
     "execution_count": 13,
     "metadata": {},
     "output_type": "execute_result"
    }
   ],
   "source": [
    "main_df = raw_revised_analytic[['id', 'pop_total', 'county', 'state', 'pop_class', 'region', 'division',\n",
    "                              'broadband_pct','est_med_income_households', 'est_unemp_pop_ratio_16_over',\n",
    "                              'pct_total_households_with_desktop','pct_total_households_with_portable']]\n",
    "\n",
    "\n",
    "main_df.dropna(inplace = True)\n",
    "\n",
    "#checking df shape\n",
    "main_df.shape\n"
   ]
  },
  {
   "cell_type": "markdown",
   "id": "c34a04f7",
   "metadata": {},
   "source": [
    "###### Categories\n",
    "- 'id', 'pop_total', 'county', 'state', 'pop_class', 'region', 'division', \n",
    "\n",
    "###### Numeric Data\n",
    "- 'broadband_pct','est_med_income_households', 'est_unemp_pop_ratio_16_over',\n",
    "- 'pct_total_households_with_desktop','pct_total_households_with_portable'"
   ]
  },
  {
   "cell_type": "code",
   "execution_count": 14,
   "id": "d969add0",
   "metadata": {
    "scrolled": true
   },
   "outputs": [
    {
     "name": "stdout",
     "output_type": "stream",
     "text": [
      "                            OLS Regression Results                            \n",
      "==============================================================================\n",
      "Dep. Variable:          broadband_pct   R-squared:                       0.598\n",
      "Model:                            OLS   Adj. R-squared:                  0.597\n",
      "Method:                 Least Squares   F-statistic:                     401.3\n",
      "Date:                Tue, 15 Mar 2022   Prob (F-statistic):          1.57e-159\n",
      "Time:                        12:33:58   Log-Likelihood:                -2295.7\n",
      "No. Observations:                 812   AIC:                             4599.\n",
      "Df Residuals:                     808   BIC:                             4618.\n",
      "Df Model:                           3                                         \n",
      "Covariance Type:            nonrobust                                         \n",
      "===============================================================================================\n",
      "                                  coef    std err          t      P>|t|      [0.025      0.975]\n",
      "-----------------------------------------------------------------------------------------------\n",
      "Intercept                      64.7723      0.895     72.370      0.000      63.015      66.529\n",
      "pop_total                    4.965e-07   2.47e-07      2.010      0.045    1.16e-08    9.81e-07\n",
      "est_med_income_households       0.0003   9.83e-06     27.918      0.000       0.000       0.000\n",
      "est_unemp_pop_ratio_16_over    -0.3846      0.088     -4.347      0.000      -0.558      -0.211\n",
      "==============================================================================\n",
      "Omnibus:                      304.454   Durbin-Watson:                   1.832\n",
      "Prob(Omnibus):                  0.000   Jarque-Bera (JB):             2172.773\n",
      "Skew:                          -1.517   Prob(JB):                         0.00\n",
      "Kurtosis:                      10.417   Cond. No.                     4.32e+06\n",
      "==============================================================================\n",
      "\n",
      "Notes:\n",
      "[1] Standard Errors assume that the covariance matrix of the errors is correctly specified.\n",
      "[2] The condition number is large, 4.32e+06. This might indicate that there are\n",
      "strong multicollinearity or other numerical problems.\n"
     ]
    }
   ],
   "source": [
    "formula1 = \"broadband_pct ~ pop_total + est_med_income_households + est_unemp_pop_ratio_16_over\" \n",
    "model1 = sm.ols(formula = formula1, data = main_df)\n",
    "fitted1 = model1.fit()\n",
    "print(fitted1.summary())"
   ]
  },
  {
   "cell_type": "markdown",
   "id": "b5c93e4e",
   "metadata": {},
   "source": [
    "##### With region added and pop total removed "
   ]
  },
  {
   "cell_type": "code",
   "execution_count": 15,
   "id": "5d3f10b5",
   "metadata": {
    "scrolled": true
   },
   "outputs": [
    {
     "name": "stdout",
     "output_type": "stream",
     "text": [
      "                            OLS Regression Results                            \n",
      "==============================================================================\n",
      "Dep. Variable:          broadband_pct   R-squared:                       0.607\n",
      "Model:                            OLS   Adj. R-squared:                  0.605\n",
      "Method:                 Least Squares   F-statistic:                     249.3\n",
      "Date:                Tue, 15 Mar 2022   Prob (F-statistic):          7.56e-161\n",
      "Time:                        12:33:58   Log-Likelihood:                -2286.6\n",
      "No. Observations:                 812   AIC:                             4585.\n",
      "Df Residuals:                     806   BIC:                             4613.\n",
      "Df Model:                           5                                         \n",
      "Covariance Type:            nonrobust                                         \n",
      "===============================================================================================\n",
      "                                  coef    std err          t      P>|t|      [0.025      0.975]\n",
      "-----------------------------------------------------------------------------------------------\n",
      "Intercept                      65.3453      0.907     72.078      0.000      63.566      67.125\n",
      "region[T.Northeast]            -1.3726      0.460     -2.982      0.003      -2.276      -0.469\n",
      "region[T.South]                -1.0713      0.368     -2.914      0.004      -1.793      -0.350\n",
      "region[T.West]                  0.4294      0.474      0.905      0.366      -0.502       1.361\n",
      "est_med_income_households       0.0003   9.83e-06     28.206      0.000       0.000       0.000\n",
      "est_unemp_pop_ratio_16_over    -0.3749      0.090     -4.151      0.000      -0.552      -0.198\n",
      "==============================================================================\n",
      "Omnibus:                      336.555   Durbin-Watson:                   1.876\n",
      "Prob(Omnibus):                  0.000   Jarque-Bera (JB):             2929.470\n",
      "Skew:                          -1.643   Prob(JB):                         0.00\n",
      "Kurtosis:                      11.706   Cond. No.                     4.12e+05\n",
      "==============================================================================\n",
      "\n",
      "Notes:\n",
      "[1] Standard Errors assume that the covariance matrix of the errors is correctly specified.\n",
      "[2] The condition number is large, 4.12e+05. This might indicate that there are\n",
      "strong multicollinearity or other numerical problems.\n"
     ]
    }
   ],
   "source": [
    "formula2 = \"broadband_pct ~ est_med_income_households + est_unemp_pop_ratio_16_over + region\" \n",
    "model2 = sm.ols(formula = formula2, data = main_df)\n",
    "fitted2 = model2.fit()\n",
    "print(fitted2.summary())"
   ]
  },
  {
   "cell_type": "markdown",
   "id": "37275ba2",
   "metadata": {},
   "source": [
    "##### Devices added to the model \n",
    ">Best model thus far regarding r-squared"
   ]
  },
  {
   "cell_type": "code",
   "execution_count": 16,
   "id": "bbe84c6f",
   "metadata": {
    "scrolled": false
   },
   "outputs": [
    {
     "name": "stdout",
     "output_type": "stream",
     "text": [
      "                            OLS Regression Results                            \n",
      "==============================================================================\n",
      "Dep. Variable:          broadband_pct   R-squared:                       0.821\n",
      "Model:                            OLS   Adj. R-squared:                  0.819\n",
      "Method:                 Least Squares   F-statistic:                     526.5\n",
      "Date:                Tue, 15 Mar 2022   Prob (F-statistic):          3.29e-295\n",
      "Time:                        12:33:58   Log-Likelihood:                -1967.8\n",
      "No. Observations:                 812   AIC:                             3952.\n",
      "Df Residuals:                     804   BIC:                             3989.\n",
      "Df Model:                           7                                         \n",
      "Covariance Type:            nonrobust                                         \n",
      "======================================================================================================\n",
      "                                         coef    std err          t      P>|t|      [0.025      0.975]\n",
      "------------------------------------------------------------------------------------------------------\n",
      "Intercept                             28.4962      1.360     20.952      0.000      25.827      31.166\n",
      "region[T.Northeast]                   -0.5199      0.316     -1.646      0.100      -1.140       0.100\n",
      "region[T.South]                       -0.5574      0.249     -2.237      0.026      -1.047      -0.068\n",
      "region[T.West]                        -0.2768      0.325     -0.852      0.394      -0.914       0.361\n",
      "est_med_income_households           6.313e-05   9.77e-06      6.460      0.000    4.39e-05    8.23e-05\n",
      "est_unemp_pop_ratio_16_over            0.0625      0.063      0.989      0.323      -0.062       0.187\n",
      "pct_total_households_with_desktop      0.4449      0.027     16.544      0.000       0.392       0.498\n",
      "pct_total_households_with_portable     0.2167      0.027      7.904      0.000       0.163       0.271\n",
      "==============================================================================\n",
      "Omnibus:                      216.157   Durbin-Watson:                   1.940\n",
      "Prob(Omnibus):                  0.000   Jarque-Bera (JB):             1143.655\n",
      "Skew:                          -1.102   Prob(JB):                    4.56e-249\n",
      "Kurtosis:                       8.380   Cond. No.                     9.10e+05\n",
      "==============================================================================\n",
      "\n",
      "Notes:\n",
      "[1] Standard Errors assume that the covariance matrix of the errors is correctly specified.\n",
      "[2] The condition number is large, 9.1e+05. This might indicate that there are\n",
      "strong multicollinearity or other numerical problems.\n"
     ]
    }
   ],
   "source": [
    "formula3 = \"broadband_pct ~ est_med_income_households + est_unemp_pop_ratio_16_over + region + pct_total_households_with_desktop + pct_total_households_with_portable\" \n",
    "model3 = sm.ols(formula = formula3, data = main_df)\n",
    "fitted3 = model3.fit()\n",
    "print(fitted3.summary())"
   ]
  },
  {
   "cell_type": "markdown",
   "id": "6283fdc9",
   "metadata": {},
   "source": [
    "### Predicting PCT Households with Desktops"
   ]
  },
  {
   "cell_type": "markdown",
   "id": "2f39f6b9",
   "metadata": {},
   "source": [
    "#### Adding pop class instead of region "
   ]
  },
  {
   "cell_type": "code",
   "execution_count": 17,
   "id": "9545806b",
   "metadata": {
    "scrolled": true
   },
   "outputs": [
    {
     "name": "stdout",
     "output_type": "stream",
     "text": [
      "                                    OLS Regression Results                                   \n",
      "=============================================================================================\n",
      "Dep. Variable:     pct_total_households_with_desktop   R-squared:                       0.603\n",
      "Model:                                           OLS   Adj. R-squared:                  0.602\n",
      "Method:                                Least Squares   F-statistic:                     307.1\n",
      "Date:                               Tue, 15 Mar 2022   Prob (F-statistic):          1.93e-160\n",
      "Time:                                       12:33:58   Log-Likelihood:                -2451.6\n",
      "No. Observations:                                812   AIC:                             4913.\n",
      "Df Residuals:                                    807   BIC:                             4937.\n",
      "Df Model:                                          4                                         \n",
      "Covariance Type:                           nonrobust                                         \n",
      "==================================================================================================\n",
      "                                     coef    std err          t      P>|t|      [0.025      0.975]\n",
      "--------------------------------------------------------------------------------------------------\n",
      "Intercept                         61.9725      1.439     43.055      0.000      59.147      64.798\n",
      "pop_class[T.Medium Metro Area]    -0.0969      0.786     -0.123      0.902      -1.639       1.445\n",
      "pop_class[T.Small Metro Area]     -1.0577      0.766     -1.381      0.168      -2.561       0.446\n",
      "est_med_income_households          0.0003   1.24e-05     25.185      0.000       0.000       0.000\n",
      "est_unemp_pop_ratio_16_over       -0.7592      0.108     -7.060      0.000      -0.970      -0.548\n",
      "==============================================================================\n",
      "Omnibus:                       49.341   Durbin-Watson:                   1.734\n",
      "Prob(Omnibus):                  0.000   Jarque-Bera (JB):              121.200\n",
      "Skew:                          -0.318   Prob(JB):                     4.81e-27\n",
      "Kurtosis:                       4.782   Cond. No.                     6.01e+05\n",
      "==============================================================================\n",
      "\n",
      "Notes:\n",
      "[1] Standard Errors assume that the covariance matrix of the errors is correctly specified.\n",
      "[2] The condition number is large, 6.01e+05. This might indicate that there are\n",
      "strong multicollinearity or other numerical problems.\n"
     ]
    }
   ],
   "source": [
    "formula4 = \"pct_total_households_with_desktop  ~ est_med_income_households + est_unemp_pop_ratio_16_over + pop_class\" \n",
    "model4 = sm.ols(formula = formula4, data = main_df)\n",
    "fitted4 = model4.fit()\n",
    "print(fitted4.summary())"
   ]
  },
  {
   "cell_type": "code",
   "execution_count": 18,
   "id": "c17afdea",
   "metadata": {
    "scrolled": true
   },
   "outputs": [
    {
     "data": {
      "text/plain": [
       "<seaborn.axisgrid.FacetGrid at 0x7f7b2fac0ca0>"
      ]
     },
     "execution_count": 18,
     "metadata": {},
     "output_type": "execute_result"
    },
    {
     "data": {
      "image/png": "[encoded data removed]",
      "text/plain": [
       "<Figure size 360x360 with 1 Axes>"
      ]
     },
     "metadata": {
      "needs_background": "light"
     },
     "output_type": "display_data"
    }
   ],
   "source": [
    "# Quickly checking the distribution of pop_class label in this smaller dataset\n",
    "sns.displot(main_df, y=\"pop_class\", discrete = True, shrink=.8)"
   ]
  },
  {
   "cell_type": "markdown",
   "id": "51affb62",
   "metadata": {},
   "source": [
    "#### Adding broadband pct info"
   ]
  },
  {
   "cell_type": "code",
   "execution_count": 19,
   "id": "6ec69d7a",
   "metadata": {
    "scrolled": false
   },
   "outputs": [
    {
     "name": "stdout",
     "output_type": "stream",
     "text": [
      "                                    OLS Regression Results                                   \n",
      "=============================================================================================\n",
      "Dep. Variable:     pct_total_households_with_desktop   R-squared:                       0.807\n",
      "Model:                                           OLS   Adj. R-squared:                  0.806\n",
      "Method:                                Least Squares   F-statistic:                     673.2\n",
      "Date:                               Tue, 15 Mar 2022   Prob (F-statistic):          8.00e-285\n",
      "Time:                                       12:33:58   Log-Likelihood:                -2159.6\n",
      "No. Observations:                                812   AIC:                             4331.\n",
      "Df Residuals:                                    806   BIC:                             4359.\n",
      "Df Model:                                          5                                         \n",
      "Covariance Type:                           nonrobust                                         \n",
      "==================================================================================================\n",
      "                                     coef    std err          t      P>|t|      [0.025      0.975]\n",
      "--------------------------------------------------------------------------------------------------\n",
      "Intercept                          4.1769      2.225      1.878      0.061      -0.190       8.544\n",
      "pop_class[T.Medium Metro Area]    -0.0637      0.549     -0.116      0.908      -1.141       1.014\n",
      "pop_class[T.Small Metro Area]     -0.0495      0.536     -0.092      0.926      -1.102       1.003\n",
      "est_med_income_households       8.022e-05   1.18e-05      6.806      0.000    5.71e-05       0.000\n",
      "est_unemp_pop_ratio_16_over       -0.4096      0.076     -5.385      0.000      -0.559      -0.260\n",
      "broadband_pct                      0.8719      0.030     29.125      0.000       0.813       0.931\n",
      "==============================================================================\n",
      "Omnibus:                       54.066   Durbin-Watson:                   1.757\n",
      "Prob(Omnibus):                  0.000   Jarque-Bera (JB):              160.443\n",
      "Skew:                          -0.284   Prob(JB):                     1.45e-35\n",
      "Kurtosis:                       5.102   Cond. No.                     1.18e+06\n",
      "==============================================================================\n",
      "\n",
      "Notes:\n",
      "[1] Standard Errors assume that the covariance matrix of the errors is correctly specified.\n",
      "[2] The condition number is large, 1.18e+06. This might indicate that there are\n",
      "strong multicollinearity or other numerical problems.\n"
     ]
    }
   ],
   "source": [
    "formula5 = \"pct_total_households_with_desktop  ~ est_med_income_households + est_unemp_pop_ratio_16_over + pop_class + broadband_pct\" \n",
    "model5 = sm.ols(formula = formula5, data = main_df)\n",
    "fitted5 = model5.fit()\n",
    "print(fitted5.summary())"
   ]
  },
  {
   "cell_type": "markdown",
   "id": "d60a03c8",
   "metadata": {},
   "source": [
    "#### Adding pct households with portable devices"
   ]
  },
  {
   "cell_type": "code",
   "execution_count": 20,
   "id": "f3b240c7",
   "metadata": {
    "scrolled": true
   },
   "outputs": [
    {
     "name": "stdout",
     "output_type": "stream",
     "text": [
      "                                    OLS Regression Results                                   \n",
      "=============================================================================================\n",
      "Dep. Variable:     pct_total_households_with_desktop   R-squared:                       0.840\n",
      "Model:                                           OLS   Adj. R-squared:                  0.839\n",
      "Method:                                Least Squares   F-statistic:                     704.3\n",
      "Date:                               Tue, 15 Mar 2022   Prob (F-statistic):          2.67e-316\n",
      "Time:                                       12:33:58   Log-Likelihood:                -2083.1\n",
      "No. Observations:                                812   AIC:                             4180.\n",
      "Df Residuals:                                    805   BIC:                             4213.\n",
      "Df Model:                                          6                                         \n",
      "Covariance Type:                           nonrobust                                         \n",
      "======================================================================================================\n",
      "                                         coef    std err          t      P>|t|      [0.025      0.975]\n",
      "------------------------------------------------------------------------------------------------------\n",
      "Intercept                              6.6002      2.034      3.244      0.001       2.607      10.594\n",
      "pop_class[T.Medium Metro Area]        -0.1838      0.500     -0.368      0.713      -1.165       0.797\n",
      "pop_class[T.Small Metro Area]         -0.4307      0.489     -0.881      0.379      -1.391       0.529\n",
      "est_med_income_households           2.985e-05   1.14e-05      2.614      0.009    7.44e-06    5.23e-05\n",
      "est_unemp_pop_ratio_16_over           -0.3719      0.069     -5.364      0.000      -0.508      -0.236\n",
      "broadband_pct                          0.5866      0.035     16.719      0.000       0.518       0.655\n",
      "pct_total_households_with_portable     0.3795      0.029     12.922      0.000       0.322       0.437\n",
      "==============================================================================\n",
      "Omnibus:                       59.995   Durbin-Watson:                   1.679\n",
      "Prob(Omnibus):                  0.000   Jarque-Bera (JB):              179.093\n",
      "Skew:                          -0.331   Prob(JB):                     1.29e-39\n",
      "Kurtosis:                       5.203   Cond. No.                     1.19e+06\n",
      "==============================================================================\n",
      "\n",
      "Notes:\n",
      "[1] Standard Errors assume that the covariance matrix of the errors is correctly specified.\n",
      "[2] The condition number is large, 1.19e+06. This might indicate that there are\n",
      "strong multicollinearity or other numerical problems.\n"
     ]
    }
   ],
   "source": [
    "formula6 = \"pct_total_households_with_desktop  ~ est_med_income_households + est_unemp_pop_ratio_16_over + pop_class + broadband_pct + pct_total_households_with_portable\" \n",
    "model6 = sm.ols(formula = formula6, data = main_df)\n",
    "fitted6 = model6.fit()\n",
    "print(fitted6.summary())"
   ]
  },
  {
   "cell_type": "markdown",
   "id": "23efb79e",
   "metadata": {},
   "source": [
    "##### Replacing pop class with region\n",
    ">Region seems to be slightly better than pop class"
   ]
  },
  {
   "cell_type": "code",
   "execution_count": 21,
   "id": "5e7d5179",
   "metadata": {
    "scrolled": false
   },
   "outputs": [
    {
     "name": "stdout",
     "output_type": "stream",
     "text": [
      "                                    OLS Regression Results                                   \n",
      "=============================================================================================\n",
      "Dep. Variable:     pct_total_households_with_desktop   R-squared:                       0.845\n",
      "Model:                                           OLS   Adj. R-squared:                  0.844\n",
      "Method:                                Least Squares   F-statistic:                     628.5\n",
      "Date:                               Tue, 15 Mar 2022   Prob (F-statistic):          5.99e-321\n",
      "Time:                                       12:33:58   Log-Likelihood:                -2068.9\n",
      "No. Observations:                                812   AIC:                             4154.\n",
      "Df Residuals:                                    804   BIC:                             4191.\n",
      "Df Model:                                          7                                         \n",
      "Covariance Type:                           nonrobust                                         \n",
      "======================================================================================================\n",
      "                                         coef    std err          t      P>|t|      [0.025      0.975]\n",
      "------------------------------------------------------------------------------------------------------\n",
      "Intercept                              7.0206      1.899      3.697      0.000       3.293      10.749\n",
      "region[T.Northeast]                    0.9750      0.357      2.734      0.006       0.275       1.675\n",
      "region[T.South]                       -0.0172      0.283     -0.061      0.951      -0.573       0.538\n",
      "region[T.West]                         1.5674      0.364      4.308      0.000       0.853       2.282\n",
      "est_med_income_households           2.205e-05   1.13e-05      1.947      0.052   -1.75e-07    4.43e-05\n",
      "est_unemp_pop_ratio_16_over           -0.4403      0.070     -6.294      0.000      -0.578      -0.303\n",
      "broadband_pct                          0.5708      0.035     16.544      0.000       0.503       0.639\n",
      "pct_total_households_with_portable     0.3942      0.029     13.554      0.000       0.337       0.451\n",
      "==============================================================================\n",
      "Omnibus:                       61.034   Durbin-Watson:                   1.726\n",
      "Prob(Omnibus):                  0.000   Jarque-Bera (JB):              203.485\n",
      "Skew:                          -0.295   Prob(JB):                     6.51e-45\n",
      "Kurtosis:                       5.380   Cond. No.                     1.12e+06\n",
      "==============================================================================\n",
      "\n",
      "Notes:\n",
      "[1] Standard Errors assume that the covariance matrix of the errors is correctly specified.\n",
      "[2] The condition number is large, 1.12e+06. This might indicate that there are\n",
      "strong multicollinearity or other numerical problems.\n"
     ]
    }
   ],
   "source": [
    "formula7 = \"pct_total_households_with_desktop  ~ est_med_income_households + est_unemp_pop_ratio_16_over + region + broadband_pct + pct_total_households_with_portable\" \n",
    "model7 = sm.ols(formula = formula7, data = main_df)\n",
    "fitted7 = model7.fit()\n",
    "print(fitted7.summary())"
   ]
  },
  {
   "cell_type": "code",
   "execution_count": 22,
   "id": "82cf48df",
   "metadata": {},
   "outputs": [],
   "source": [
    "# test_df1 = main_df\n",
    "\n",
    "# test_df1['desktop_pred'] = fitted7.predict(formula7)\n",
    "# test_df1['residual'] = fitted7.resid\n",
    "# test_df1.head()"
   ]
  },
  {
   "cell_type": "code",
   "execution_count": 23,
   "id": "86e637cb",
   "metadata": {},
   "outputs": [],
   "source": [
    "# # Plotting the observed vs predicted values\n",
    "# sns.lmplot(x='pct_total_households_with_desktop', y='desktop_pred', data=test_df1, fit_reg=False, size=5)\n",
    "    \n",
    "# # Plotting the diagonal line\n",
    "# line_coords = np.arange(test_df1[['pct_total_households_with_desktop', 'desktop_pred']].min().min()-10, \n",
    "#                         test_df1[['pct_total_households_with_desktop', 'desktop_pred']].max().max()+10)\n",
    "# plt.plot(line_coords, line_coords,  # X and y points\n",
    "#          color='darkorange', linestyle='--')\n",
    "\n",
    "# plt.ylabel('Predicted Desktop', fontsize=14)\n",
    "# plt.xlabel('Actual Desktop', fontsize=14)\n",
    "# plt.title('Linearity Assumption', fontsize=16)\n",
    "# plt.show()"
   ]
  },
  {
   "cell_type": "markdown",
   "id": "bb87b0de",
   "metadata": {},
   "source": [
    "## Using Test and Training Data for linear regression  \n",
    "For main dataset version 2 drops values from 827 to 812 (because of unemployment field) This method only looks at the float64 variables."
   ]
  },
  {
   "cell_type": "code",
   "execution_count": 24,
   "id": "2d308c5d",
   "metadata": {},
   "outputs": [
    {
     "name": "stdout",
     "output_type": "stream",
     "text": [
      "Accuracy for predicting broadband pct:  0.8100399971821888\n"
     ]
    },
    {
     "name": "stderr",
     "output_type": "stream",
     "text": [
      "/Users/milliesymns/opt/anaconda3/lib/python3.9/site-packages/pandas/util/_decorators.py:311: SettingWithCopyWarning: \n",
      "A value is trying to be set on a copy of a slice from a DataFrame\n",
      "\n",
      "See the caveats in the documentation: https://pandas.pydata.org/pandas-docs/stable/user_guide/indexing.html#returning-a-view-versus-a-copy\n",
      "  return func(*args, **kwargs)\n"
     ]
    }
   ],
   "source": [
    "# Train test split data\n",
    "\n",
    "main_df2 = raw_revised_analytic[['id', 'pop_total', 'county', 'state', 'pop_class', 'region', 'division',\n",
    "                              'broadband_pct','est_med_income_households', 'est_unemp_pop_ratio_16_over',\n",
    "                              'pct_total_households_with_desktop','pct_total_households_with_portable']]\n",
    "main_df2.dropna(inplace = True)\n",
    "                                \n",
    "#set the target and predictors \n",
    "y = main_df2.broadband_pct #target\n",
    "df_temp = main_df2.select_dtypes(include = 'float64') #only keeping numeric values\n",
    "x = df_temp.drop(['broadband_pct'], axis = 1) #predictors  \n",
    "x_train, x_test, y_train, y_test = train_test_split(x, y, test_size = .75, random_state = 3)\n",
    "\n",
    "lr = LinearRegression()\n",
    "# fitting optimal linear regression line on training data \n",
    "lr.fit(x_train, y_train)\n",
    "\n",
    "#for the given mosel and fit predict y values using x set \n",
    "yr_hat = lr.predict(x_test)\n",
    "\n",
    "# evaluating algorithm with the test set \n",
    "lr_score = lr.score (x_test, y_test)\n",
    "print(\"Accuracy for predicting broadband pct: \", lr_score) "
   ]
  },
  {
   "cell_type": "code",
   "execution_count": 25,
   "id": "d4e61738",
   "metadata": {
    "scrolled": true
   },
   "outputs": [
    {
     "name": "stdout",
     "output_type": "stream",
     "text": [
      "<class 'pandas.core.frame.DataFrame'>\n",
      "Int64Index: 812 entries, 1 to 3132\n",
      "Data columns (total 5 columns):\n",
      " #   Column                              Non-Null Count  Dtype  \n",
      "---  ------                              --------------  -----  \n",
      " 0   pop_total                           812 non-null    float64\n",
      " 1   est_med_income_households           812 non-null    float64\n",
      " 2   est_unemp_pop_ratio_16_over         812 non-null    float64\n",
      " 3   pct_total_households_with_desktop   812 non-null    float64\n",
      " 4   pct_total_households_with_portable  812 non-null    float64\n",
      "dtypes: float64(5)\n",
      "memory usage: 38.1 KB\n"
     ]
    }
   ],
   "source": [
    "x.info()"
   ]
  },
  {
   "cell_type": "code",
   "execution_count": 26,
   "id": "624d2476",
   "metadata": {},
   "outputs": [
    {
     "name": "stdout",
     "output_type": "stream",
     "text": [
      "Accuracy for predicting pct households with desktops:  0.832890563507902\n"
     ]
    }
   ],
   "source": [
    "# Train test split data \n",
    "\n",
    "#set the target and predictors \n",
    "y = main_df2.pct_total_households_with_desktop #target\n",
    "df_temp = main_df2.select_dtypes(include = 'float64') #only keeping numeric values\n",
    "x = df_temp.drop(['pct_total_households_with_desktop'], axis = 1) #predictors  \n",
    "x_train, x_test, y_train, y_test = train_test_split(x, y, test_size = .75, random_state = 3)\n",
    "\n",
    "lr = LinearRegression()\n",
    "# fitting optimal linear regression line on training data \n",
    "lr.fit(x_train, y_train)\n",
    "\n",
    "#for the given mosel and fit predict y values using x set \n",
    "yr_hat = lr.predict(x_test)\n",
    "\n",
    "# evaluating algorithm with the test set \n",
    "lr_score = lr.score (x_test, y_test)\n",
    "print(\"Accuracy for predicting pct households with desktops: \", lr_score) "
   ]
  }
 ],
 "metadata": {
  "kernelspec": {
   "display_name": "Python 3 (ipykernel)",
   "language": "python",
   "name": "python3"
  },
  "language_info": {
   "codemirror_mode": {
    "name": "ipython",
    "version": 3
   },
   "file_extension": ".py",
   "mimetype": "text/x-python",
   "name": "python",
   "nbconvert_exporter": "python",
   "pygments_lexer": "ipython3",
   "version": "3.9.7"
  }
 },
 "nbformat": 4,
 "nbformat_minor": 5
}
