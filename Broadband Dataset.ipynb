{
 "cells": [
  {
   "cell_type": "code",
   "execution_count": 4,
   "id": "e1c8d5ff",
   "metadata": {},
   "outputs": [],
   "source": [
    "import json\n",
    "import pandas as pd\n",
    "import matplotlib.pyplot as plt\n",
    "import seaborn as sns\n",
    "import numpy as np\n",
    "import base64"
   ]
  },
  {
   "cell_type": "code",
   "execution_count": 5,
   "id": "85ee5c6d",
   "metadata": {},
   "outputs": [],
   "source": [
    "file = open(\"broadband_long2000-2018rev.csv\",\"r\")\n",
    "df = pd.read_csv(\"broadband_long2000-2018rev.csv\")"
   ]
  },
  {
   "cell_type": "code",
   "execution_count": 6,
   "id": "081dfcd2",
   "metadata": {},
   "outputs": [
    {
     "data": {
      "text/html": [
       "<div>\n",
       "<style scoped>\n",
       "    .dataframe tbody tr th:only-of-type {\n",
       "        vertical-align: middle;\n",
       "    }\n",
       "\n",
       "    .dataframe tbody tr th {\n",
       "        vertical-align: top;\n",
       "    }\n",
       "\n",
       "    .dataframe thead th {\n",
       "        text-align: right;\n",
       "    }\n",
       "</style>\n",
       "<table border=\"1\" class=\"dataframe\">\n",
       "  <thead>\n",
       "    <tr style=\"text-align: right;\">\n",
       "      <th></th>\n",
       "      <th>statenam</th>\n",
       "      <th>county</th>\n",
       "      <th>year</th>\n",
       "      <th>id</th>\n",
       "      <th>broadband</th>\n",
       "      <th>cfips</th>\n",
       "    </tr>\n",
       "  </thead>\n",
       "  <tbody>\n",
       "    <tr>\n",
       "      <th>0</th>\n",
       "      <td>Alabama</td>\n",
       "      <td>Autauga County</td>\n",
       "      <td>2000</td>\n",
       "      <td>0500000US01001</td>\n",
       "      <td>NaN</td>\n",
       "      <td>1001</td>\n",
       "    </tr>\n",
       "    <tr>\n",
       "      <th>1</th>\n",
       "      <td>Alabama</td>\n",
       "      <td>Autauga County</td>\n",
       "      <td>2001</td>\n",
       "      <td>0500000US01001</td>\n",
       "      <td>NaN</td>\n",
       "      <td>1001</td>\n",
       "    </tr>\n",
       "    <tr>\n",
       "      <th>2</th>\n",
       "      <td>Alabama</td>\n",
       "      <td>Autauga County</td>\n",
       "      <td>2002</td>\n",
       "      <td>0500000US01001</td>\n",
       "      <td>NaN</td>\n",
       "      <td>1001</td>\n",
       "    </tr>\n",
       "    <tr>\n",
       "      <th>3</th>\n",
       "      <td>Alabama</td>\n",
       "      <td>Autauga County</td>\n",
       "      <td>2003</td>\n",
       "      <td>0500000US01001</td>\n",
       "      <td>NaN</td>\n",
       "      <td>1001</td>\n",
       "    </tr>\n",
       "    <tr>\n",
       "      <th>4</th>\n",
       "      <td>Alabama</td>\n",
       "      <td>Autauga County</td>\n",
       "      <td>2004</td>\n",
       "      <td>0500000US01001</td>\n",
       "      <td>NaN</td>\n",
       "      <td>1001</td>\n",
       "    </tr>\n",
       "  </tbody>\n",
       "</table>\n",
       "</div>"
      ],
      "text/plain": [
       "  statenam          county  year              id  broadband  cfips\n",
       "0  Alabama  Autauga County  2000  0500000US01001        NaN   1001\n",
       "1  Alabama  Autauga County  2001  0500000US01001        NaN   1001\n",
       "2  Alabama  Autauga County  2002  0500000US01001        NaN   1001\n",
       "3  Alabama  Autauga County  2003  0500000US01001        NaN   1001\n",
       "4  Alabama  Autauga County  2004  0500000US01001        NaN   1001"
      ]
     },
     "execution_count": 6,
     "metadata": {},
     "output_type": "execute_result"
    }
   ],
   "source": [
    "df.head()"
   ]
  },
  {
   "cell_type": "code",
   "execution_count": 7,
   "id": "4a5d9bd7",
   "metadata": {},
   "outputs": [],
   "source": [
    "df[\"state\"] = df[\"statenam\"]\n",
    "del df[\"statenam\"]\n",
    "df[\"broadband_pct\"] = df[\"broadband\"]\n",
    "del df[\"broadband\"]"
   ]
  },
  {
   "cell_type": "code",
   "execution_count": 8,
   "id": "7ec1ba68",
   "metadata": {
    "scrolled": true
   },
   "outputs": [
    {
     "data": {
      "text/html": [
       "<div>\n",
       "<style scoped>\n",
       "    .dataframe tbody tr th:only-of-type {\n",
       "        vertical-align: middle;\n",
       "    }\n",
       "\n",
       "    .dataframe tbody tr th {\n",
       "        vertical-align: top;\n",
       "    }\n",
       "\n",
       "    .dataframe thead th {\n",
       "        text-align: right;\n",
       "    }\n",
       "</style>\n",
       "<table border=\"1\" class=\"dataframe\">\n",
       "  <thead>\n",
       "    <tr style=\"text-align: right;\">\n",
       "      <th></th>\n",
       "      <th>county</th>\n",
       "      <th>year</th>\n",
       "      <th>id</th>\n",
       "      <th>cfips</th>\n",
       "      <th>state</th>\n",
       "      <th>broadband_pct</th>\n",
       "    </tr>\n",
       "  </thead>\n",
       "  <tbody>\n",
       "    <tr>\n",
       "      <th>0</th>\n",
       "      <td>Autauga County</td>\n",
       "      <td>2000</td>\n",
       "      <td>0500000US01001</td>\n",
       "      <td>1001</td>\n",
       "      <td>Alabama</td>\n",
       "      <td>NaN</td>\n",
       "    </tr>\n",
       "    <tr>\n",
       "      <th>1</th>\n",
       "      <td>Autauga County</td>\n",
       "      <td>2001</td>\n",
       "      <td>0500000US01001</td>\n",
       "      <td>1001</td>\n",
       "      <td>Alabama</td>\n",
       "      <td>NaN</td>\n",
       "    </tr>\n",
       "    <tr>\n",
       "      <th>2</th>\n",
       "      <td>Autauga County</td>\n",
       "      <td>2002</td>\n",
       "      <td>0500000US01001</td>\n",
       "      <td>1001</td>\n",
       "      <td>Alabama</td>\n",
       "      <td>NaN</td>\n",
       "    </tr>\n",
       "    <tr>\n",
       "      <th>3</th>\n",
       "      <td>Autauga County</td>\n",
       "      <td>2003</td>\n",
       "      <td>0500000US01001</td>\n",
       "      <td>1001</td>\n",
       "      <td>Alabama</td>\n",
       "      <td>NaN</td>\n",
       "    </tr>\n",
       "    <tr>\n",
       "      <th>4</th>\n",
       "      <td>Autauga County</td>\n",
       "      <td>2004</td>\n",
       "      <td>0500000US01001</td>\n",
       "      <td>1001</td>\n",
       "      <td>Alabama</td>\n",
       "      <td>NaN</td>\n",
       "    </tr>\n",
       "  </tbody>\n",
       "</table>\n",
       "</div>"
      ],
      "text/plain": [
       "           county  year              id  cfips    state  broadband_pct\n",
       "0  Autauga County  2000  0500000US01001   1001  Alabama            NaN\n",
       "1  Autauga County  2001  0500000US01001   1001  Alabama            NaN\n",
       "2  Autauga County  2002  0500000US01001   1001  Alabama            NaN\n",
       "3  Autauga County  2003  0500000US01001   1001  Alabama            NaN\n",
       "4  Autauga County  2004  0500000US01001   1001  Alabama            NaN"
      ]
     },
     "execution_count": 8,
     "metadata": {},
     "output_type": "execute_result"
    }
   ],
   "source": [
    "df.head()"
   ]
  },
  {
   "cell_type": "code",
   "execution_count": 9,
   "id": "fad023e2",
   "metadata": {
    "scrolled": true
   },
   "outputs": [
    {
     "data": {
      "text/html": [
       "<div>\n",
       "<style scoped>\n",
       "    .dataframe tbody tr th:only-of-type {\n",
       "        vertical-align: middle;\n",
       "    }\n",
       "\n",
       "    .dataframe tbody tr th {\n",
       "        vertical-align: top;\n",
       "    }\n",
       "\n",
       "    .dataframe thead th {\n",
       "        text-align: right;\n",
       "    }\n",
       "</style>\n",
       "<table border=\"1\" class=\"dataframe\">\n",
       "  <thead>\n",
       "    <tr style=\"text-align: right;\">\n",
       "      <th></th>\n",
       "      <th>county</th>\n",
       "      <th>year</th>\n",
       "      <th>id</th>\n",
       "      <th>cfips</th>\n",
       "      <th>broadband_pct</th>\n",
       "    </tr>\n",
       "    <tr>\n",
       "      <th>state</th>\n",
       "      <th></th>\n",
       "      <th></th>\n",
       "      <th></th>\n",
       "      <th></th>\n",
       "      <th></th>\n",
       "    </tr>\n",
       "  </thead>\n",
       "  <tbody>\n",
       "    <tr>\n",
       "      <th>Alabama</th>\n",
       "      <td>Autauga County</td>\n",
       "      <td>2000</td>\n",
       "      <td>0500000US01001</td>\n",
       "      <td>1001</td>\n",
       "      <td>NaN</td>\n",
       "    </tr>\n",
       "    <tr>\n",
       "      <th>Alabama</th>\n",
       "      <td>Autauga County</td>\n",
       "      <td>2001</td>\n",
       "      <td>0500000US01001</td>\n",
       "      <td>1001</td>\n",
       "      <td>NaN</td>\n",
       "    </tr>\n",
       "    <tr>\n",
       "      <th>Alabama</th>\n",
       "      <td>Autauga County</td>\n",
       "      <td>2002</td>\n",
       "      <td>0500000US01001</td>\n",
       "      <td>1001</td>\n",
       "      <td>NaN</td>\n",
       "    </tr>\n",
       "    <tr>\n",
       "      <th>Alabama</th>\n",
       "      <td>Autauga County</td>\n",
       "      <td>2003</td>\n",
       "      <td>0500000US01001</td>\n",
       "      <td>1001</td>\n",
       "      <td>NaN</td>\n",
       "    </tr>\n",
       "    <tr>\n",
       "      <th>Alabama</th>\n",
       "      <td>Autauga County</td>\n",
       "      <td>2004</td>\n",
       "      <td>0500000US01001</td>\n",
       "      <td>1001</td>\n",
       "      <td>NaN</td>\n",
       "    </tr>\n",
       "    <tr>\n",
       "      <th>...</th>\n",
       "      <td>...</td>\n",
       "      <td>...</td>\n",
       "      <td>...</td>\n",
       "      <td>...</td>\n",
       "      <td>...</td>\n",
       "    </tr>\n",
       "    <tr>\n",
       "      <th>Wyoming</th>\n",
       "      <td>Weston County</td>\n",
       "      <td>2014</td>\n",
       "      <td>0500000US56045</td>\n",
       "      <td>56045</td>\n",
       "      <td>NaN</td>\n",
       "    </tr>\n",
       "    <tr>\n",
       "      <th>Wyoming</th>\n",
       "      <td>Weston County</td>\n",
       "      <td>2015</td>\n",
       "      <td>0500000US56045</td>\n",
       "      <td>56045</td>\n",
       "      <td>NaN</td>\n",
       "    </tr>\n",
       "    <tr>\n",
       "      <th>Wyoming</th>\n",
       "      <td>Weston County</td>\n",
       "      <td>2016</td>\n",
       "      <td>0500000US56045</td>\n",
       "      <td>56045</td>\n",
       "      <td>NaN</td>\n",
       "    </tr>\n",
       "    <tr>\n",
       "      <th>Wyoming</th>\n",
       "      <td>Weston County</td>\n",
       "      <td>2017</td>\n",
       "      <td>0500000US56045</td>\n",
       "      <td>56045</td>\n",
       "      <td>0.586207</td>\n",
       "    </tr>\n",
       "    <tr>\n",
       "      <th>Wyoming</th>\n",
       "      <td>Weston County</td>\n",
       "      <td>2018</td>\n",
       "      <td>0500000US56045</td>\n",
       "      <td>56045</td>\n",
       "      <td>0.733000</td>\n",
       "    </tr>\n",
       "  </tbody>\n",
       "</table>\n",
       "<p>59527 rows × 5 columns</p>\n",
       "</div>"
      ],
      "text/plain": [
       "                 county  year              id  cfips  broadband_pct\n",
       "state                                                              \n",
       "Alabama  Autauga County  2000  0500000US01001   1001            NaN\n",
       "Alabama  Autauga County  2001  0500000US01001   1001            NaN\n",
       "Alabama  Autauga County  2002  0500000US01001   1001            NaN\n",
       "Alabama  Autauga County  2003  0500000US01001   1001            NaN\n",
       "Alabama  Autauga County  2004  0500000US01001   1001            NaN\n",
       "...                 ...   ...             ...    ...            ...\n",
       "Wyoming   Weston County  2014  0500000US56045  56045            NaN\n",
       "Wyoming   Weston County  2015  0500000US56045  56045            NaN\n",
       "Wyoming   Weston County  2016  0500000US56045  56045            NaN\n",
       "Wyoming   Weston County  2017  0500000US56045  56045       0.586207\n",
       "Wyoming   Weston County  2018  0500000US56045  56045       0.733000\n",
       "\n",
       "[59527 rows x 5 columns]"
      ]
     },
     "execution_count": 9,
     "metadata": {},
     "output_type": "execute_result"
    }
   ],
   "source": [
    "df.set_index([\"state\"])"
   ]
  },
  {
   "cell_type": "markdown",
   "id": "5dc401bc",
   "metadata": {},
   "source": [
    "# Preliminary EDA\n",
    "\n",
    "Which columns in your data sets will help you answer the questions posed by\n",
    "your problem statement?\n",
    "\n",
    "1. Which columns represent the key pieces of information you want to examine (i.e.your target variables)?\n",
    "Broadband Percentage\n",
    "\n",
    "2. How many numerical, textual, datetime etc. columns are in your dataset?\n",
    "Six\n",
    "\n",
    "3. Pick out any similar columns among your disparate data sets for potential linking later on on the EDA process\n",
    "State, County, FIPS Code"
   ]
  },
  {
   "cell_type": "markdown",
   "id": "e39465fb",
   "metadata": {},
   "source": [
    "● Explore Individual columns for preliminary insights\n",
    "1. How many null values are present in your data (what percentage)?\n",
    "46522 (78%)\n",
    "\n",
    "2. Plot one-dimensional distributions of numerical columns (ex. histograms) and observe the overall shape of the data (i.e. normal distribution, skewed, multimodal, discontinuous\n",
    "Data is skewed to the left\n",
    "\n",
    "3. Compute basic statistics of numerical columns\n",
    "count    13005.000000\n",
    "mean         0.654916\n",
    "std          0.198363\n",
    "min          0.011258\n",
    "25%          0.554252\n",
    "50%          0.710000\n",
    "75%          0.800389\n",
    "max          0.973881\n",
    "\n",
    "4. Calculate subgroup size of text/categorical data (such as the pd.value_counts() method)\n",
    "There are 1867 counties out of the 3006 US counties\n",
    "\n",
    "5. Explore any date/datetime columns for basic trends. How long is the period of time covered by the dataset? Do any seasonality trends immediately become apparent?\n",
    "More counties reported later on, it's not apparent if they were not reporting or did not have broadband at the time.\n",
    "\n",
    "2000-2005 216-217\n",
    "2008-2021 328\n",
    "2016-2017 812-817\n",
    "2017-2018 3132-3133"
   ]
  },
  {
   "cell_type": "code",
   "execution_count": 11,
   "id": "2be3048d",
   "metadata": {},
   "outputs": [
    {
     "data": {
      "text/plain": [
       "county               0\n",
       "year                 0\n",
       "id                   0\n",
       "cfips                0\n",
       "state                0\n",
       "broadband_pct    46522\n",
       "dtype: int64"
      ]
     },
     "execution_count": 11,
     "metadata": {},
     "output_type": "execute_result"
    }
   ],
   "source": [
    "#Number of null values (78%)\n",
    "df.isna().sum()"
   ]
  },
  {
   "cell_type": "code",
   "execution_count": 19,
   "id": "30444877",
   "metadata": {},
   "outputs": [
    {
     "data": {
      "text/plain": [
       "Text(0.5, 0, 'Broadband Percentage')"
      ]
     },
     "execution_count": 19,
     "metadata": {},
     "output_type": "execute_result"
    },
    {
     "data": {
      "image/png": "[encoded data removed]",
      "text/plain": [
       "<Figure size 432x288 with 1 Axes>"
      ]
     },
     "metadata": {
      "needs_background": "light"
     },
     "output_type": "display_data"
    }
   ],
   "source": [
    "df[\"broadband_pct\"].plot.hist()\n",
    "plt.title(\"Broadband Percentage Distribution\")\n",
    "plt.xlabel(\"Broadband Percentage\")"
   ]
  },
  {
   "cell_type": "code",
   "execution_count": 21,
   "id": "545dd84c",
   "metadata": {},
   "outputs": [
    {
     "data": {
      "text/plain": [
       "count    13005.000000\n",
       "mean         0.654916\n",
       "std          0.198363\n",
       "min          0.011258\n",
       "25%          0.554252\n",
       "50%          0.710000\n",
       "75%          0.800389\n",
       "max          0.973881\n",
       "Name: broadband_pct, dtype: float64"
      ]
     },
     "execution_count": 21,
     "metadata": {},
     "output_type": "execute_result"
    }
   ],
   "source": [
    "#Compute basic stats\n",
    "df[\"broadband_pct\"].describe()"
   ]
  },
  {
   "cell_type": "code",
   "execution_count": 22,
   "id": "0a58386e",
   "metadata": {},
   "outputs": [
    {
     "data": {
      "text/plain": [
       "0.500000    53\n",
       "0.600000    28\n",
       "0.750000    25\n",
       "0.733000    24\n",
       "0.783000    22\n",
       "            ..\n",
       "0.807175     1\n",
       "0.620253     1\n",
       "0.868030     1\n",
       "0.552885     1\n",
       "0.742928     1\n",
       "Name: broadband_pct, Length: 9551, dtype: int64"
      ]
     },
     "execution_count": 22,
     "metadata": {},
     "output_type": "execute_result"
    }
   ],
   "source": [
    "df[\"broadband_pct\"].value_counts()"
   ]
  },
  {
   "cell_type": "code",
   "execution_count": 37,
   "id": "a7df4745",
   "metadata": {},
   "outputs": [
    {
     "data": {
      "text/plain": [
       "0           Autauga County\n",
       "19          Baldwin County\n",
       "38          Barbour County\n",
       "57             Bibb County\n",
       "76           Blount County\n",
       "               ...        \n",
       "59413      Sublette County\n",
       "59432    Sweetwater County\n",
       "59470         Uinta County\n",
       "59489      Washakie County\n",
       "59508        Weston County\n",
       "Name: county, Length: 1867, dtype: object"
      ]
     },
     "execution_count": 37,
     "metadata": {},
     "output_type": "execute_result"
    }
   ],
   "source": [
    "dfcounty = df[\"county\"].drop_duplicates()\n",
    "dfcounty"
   ]
  },
  {
   "cell_type": "code",
   "execution_count": 26,
   "id": "ea3142ee",
   "metadata": {},
   "outputs": [
    {
     "data": {
      "text/plain": [
       "2018    3133\n",
       "2017    3132\n",
       "2014     817\n",
       "2013     817\n",
       "2015     813\n",
       "2016     812\n",
       "2012     328\n",
       "2007     328\n",
       "2009     328\n",
       "2010     328\n",
       "2008     328\n",
       "2011     328\n",
       "2003     217\n",
       "2005     216\n",
       "2004     216\n",
       "2006     216\n",
       "2002     216\n",
       "2001     216\n",
       "2000     216\n",
       "Name: year, dtype: int64"
      ]
     },
     "execution_count": 26,
     "metadata": {},
     "output_type": "execute_result"
    }
   ],
   "source": [
    "df_nonans = df.dropna()\n",
    "df_nonans[\"year\"].value_counts()"
   ]
  },
  {
   "cell_type": "markdown",
   "id": "36740a0d",
   "metadata": {},
   "source": [
    "I would want to add population data to this to categorize counties as Rural or Urban by population size. I would use that as one of my main variables along with broadband percentage. "
   ]
  },
  {
   "cell_type": "markdown",
   "id": "e8b42df9",
   "metadata": {},
   "source": [
    "● Plot two-dimensional distributions of your variables of interest against your target variable(s).\n",
    "○ Across different values of your independent variable, how does the dependent\n",
    "variable change?\n",
    "○ Which interactions of variables provide the most interesting insights?\n",
    "○ What trends do you see in the"
   ]
  },
  {
   "cell_type": "markdown",
   "id": "8a93cb07",
   "metadata": {},
   "source": [
    "● Analyze any correlations between your independent and dependent variables\n",
    "\n",
    "○ Understand and resolve surprising correlations between these variables, and usethis information to validate your initial hypothesis.\n",
    "\n",
    "The broadband percentage is lower or nonexistent in rural counties (From the counties I know are Urban vs Rural in LA, will be able to determine once I add the new column in). "
   ]
  }
 ],
 "metadata": {
  "kernelspec": {
   "display_name": "Python 3",
   "language": "python",
   "name": "python3"
  },
  "language_info": {
   "codemirror_mode": {
    "name": "ipython",
    "version": 3
   },
   "file_extension": ".py",
   "mimetype": "text/x-python",
   "name": "python",
   "nbconvert_exporter": "python",
   "pygments_lexer": "ipython3",
   "version": "3.8.8"
  }
 },
 "nbformat": 4,
 "nbformat_minor": 5
}
